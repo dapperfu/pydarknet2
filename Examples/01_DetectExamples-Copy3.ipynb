{
 "cells": [
  {
   "cell_type": "code",
   "execution_count": null,
   "metadata": {},
   "outputs": [],
   "source": [
    "import glob\n",
    "import os\n",
    "import sys\n",
    "import time\n",
    "\n",
    "import imageio\n",
    "import PIL.Image\n",
    "\n",
    "import pydarknet2"
   ]
  },
  {
   "cell_type": "markdown",
   "metadata": {},
   "source": [
    "# Detect objects from Python."
   ]
  },
  {
   "cell_type": "code",
   "execution_count": 5,
   "metadata": {},
   "outputs": [
    {
     "data": {
      "text/plain": [
       "['/tmp/darknet/libdarknet-clang-8-0-0-0.so',\n",
       " '/tmp/darknet/libdarknet-gcc-4.8-0-1-0.so',\n",
       " '/tmp/darknet/libdarknet-clang-4.0-0-1-0.so',\n",
       " '/tmp/darknet/libdarknet-clang-5.0-0-0-0.so',\n",
       " '/tmp/darknet/libdarknet-clang-8-1-0-0.so',\n",
       " '/tmp/darknet/libdarknet-gcc-5-0-0-0.so',\n",
       " '/tmp/darknet/libdarknet-gcc-5-1-1-0.so',\n",
       " '/tmp/darknet/libdarknet-gcc-7-0-1-0.so',\n",
       " '/tmp/darknet/libdarknet-gcc-5-1-0-0.so',\n",
       " '/tmp/darknet/libdarknet-clang-4.0-1-1-0.so',\n",
       " '/tmp/darknet/libdarknet-gcc-6-1-1-0.so',\n",
       " '/tmp/darknet/libdarknet-clang-4.0-0-0-0.so',\n",
       " '/tmp/darknet/libdarknet-clang-8-0-1-0.so',\n",
       " '/tmp/darknet/libdarknet-gcc-4.8-1-0-0.so',\n",
       " '/tmp/darknet/libdarknet-clang-4.0-1-0-0.so',\n",
       " '/tmp/darknet/libdarknet-clang-5.0-1-0-0.so',\n",
       " '/tmp/darknet/libdarknet-clang-6.0-1-1-0.so',\n",
       " '/tmp/darknet/libdarknet-gcc-6-1-0-0.so',\n",
       " '/tmp/darknet/libdarknet-clang-8-1-1-0.so',\n",
       " '/tmp/darknet/libdarknet-gcc-8-0-1-0.so',\n",
       " '/tmp/darknet/libdarknet-clang-3.9-0-0-0.so',\n",
       " '/tmp/darknet/libdarknet-clang-3.9-1-1-0.so',\n",
       " '/tmp/darknet/libdarknet-gcc-5-0-1-0.so',\n",
       " '/tmp/darknet/libdarknet-clang-6.0-0-1-0.so',\n",
       " '/tmp/darknet/libdarknet-clang-6.0-1-0-0.so',\n",
       " '/tmp/darknet/libdarknet-gcc-4.8-1-1-0.so',\n",
       " '/tmp/darknet/libdarknet-clang-3.9-0-1-0.so',\n",
       " '/tmp/darknet/libdarknet-clang-5.0-0-1-0.so',\n",
       " '/tmp/darknet/libdarknet-gcc-4.8-0-0-0.so',\n",
       " '/tmp/darknet/libdarknet-gcc-6-0-1-0.so',\n",
       " '/tmp/darknet/libdarknet-clang-6.0-0-0-0.so',\n",
       " '/tmp/darknet/libdarknet-gcc-8-1-0-0.so',\n",
       " '/tmp/darknet/libdarknet-gcc-8-1-1-0.so',\n",
       " '/tmp/darknet/libdarknet-gcc-8-0-0-0.so',\n",
       " '/tmp/darknet/libdarknet-clang-5.0-1-1-0.so',\n",
       " '/tmp/darknet/libdarknet-gcc-7-1-0-0.so',\n",
       " '/tmp/darknet/libdarknet-gcc-6-0-0-0.so',\n",
       " '/tmp/darknet/libdarknet-gcc-7-1-1-0.so',\n",
       " '/tmp/darknet/libdarknet-gcc-7-0-0-0.so',\n",
       " '/tmp/darknet/libdarknet-clang-3.9-1-0-0.so']"
      ]
     },
     "execution_count": 5,
     "metadata": {},
     "output_type": "execute_result"
    }
   ],
   "source": [
    "darknet_root = \"/tmp/darknet\"\n",
    "shared_libs = glob.glob(os.path.join(darknet_root, \"libdarknet-*-0.so\"))\n",
    "shared_libs\n"
   ]
  },
  {
   "cell_type": "code",
   "execution_count": 6,
   "metadata": {},
   "outputs": [],
   "source": [
    "for shared_lib in shared_libs:\n",
    "    break\n"
   ]
  },
  {
   "cell_type": "code",
   "execution_count": 10,
   "metadata": {},
   "outputs": [],
   "source": [
    "def benchmark_classifier(shared_lib):\n",
    "    classifier = pydarknet2.Classifier(\n",
    "        \"cfg/coco.data\",\n",
    "        \"cfg/yolov3.cfg\",\n",
    "        \"weights/yolov3.weights\",\n",
    "        root=darknet_root,\n",
    "        shared_lib=os.path.basename(shared_lib),\n",
    "    )\n",
    "    t1 = time.time()\n",
    "    classifier.load()\n",
    "    t2 = time.time()\n",
    "    load_time = t2 - t1\n",
    "\n",
    "    dog_path = os.path.join(classifier.root, \"data/dog.jpg\")\n",
    "\n",
    "    t1 = time.time()\n",
    "    objs = classifier.detect(dog_path)\n",
    "    t2 = time.time()\n",
    "    assert len(objs) == 3, \"Inconnect number of identified objects.\"\n",
    "    identify_time = t2 - t1\n",
    "\n",
    "    return load_time, identify_time\n"
   ]
  },
  {
   "cell_type": "code",
   "execution_count": 25,
   "metadata": {},
   "outputs": [],
   "source": [
    "def benchmark_wrapper(shared_lib):\n",
    "    shared_lib_ = os.path.basename(shared_lib)\n",
    "    load_time, identify_time = benchmark_classifier(shared_lib=shared_lib)\n",
    "    _, compiler, version, opencv, openmp, gpu = shared_lib_.split(\".\")[0].split(\n",
    "        \"-\"\n",
    "    )\n",
    "    with open(\"results.csv\", \"a\") as fid:\n",
    "        result_list = [\n",
    "            shared_lib_,\n",
    "            compiler,\n",
    "            version,\n",
    "            opencv,\n",
    "            openmp,\n",
    "            gpu,\n",
    "            str(load_time),\n",
    "            str(identify_time),\n",
    "        ]\n",
    "        print(\",\".join(result_list), file=fid)\n"
   ]
  },
  {
   "cell_type": "code",
   "execution_count": 26,
   "metadata": {},
   "outputs": [
    {
     "name": "stdout",
     "output_type": "stream",
     "text": [
      "Loading metadata......Done\n",
      "Loading network......Done\n",
      "Loading metadata......Done\n",
      "Loading network......Done\n"
     ]
    }
   ],
   "source": [
    "benchmark_wrapper(shared_lib)\n"
   ]
  }
 ],
 "metadata": {
  "kernelspec": {
   "display_name": "Python 3",
   "language": "python",
   "name": "python3"
  },
  "language_info": {
   "codemirror_mode": {
    "name": "ipython",
    "version": 3
   },
   "file_extension": ".py",
   "mimetype": "text/x-python",
   "name": "python",
   "nbconvert_exporter": "python",
   "pygments_lexer": "ipython3",
   "version": "3.6.5"
  }
 },
 "nbformat": 4,
 "nbformat_minor": 2
}
