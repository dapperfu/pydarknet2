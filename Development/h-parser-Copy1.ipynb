{
 "cells": [
  {
   "cell_type": "code",
   "execution_count": 4,
   "metadata": {},
   "outputs": [],
   "source": [
    "import pydarknet.config\n",
    "import os\n",
    "import re\n",
    "import jinja2"
   ]
  },
  {
   "cell_type": "code",
   "execution_count": 5,
   "metadata": {},
   "outputs": [],
   "source": [
    "header = os.path.join(\n",
    "    pydarknet.config.config[\"darknet\"][\"root\"],\n",
    "    \"include\",\n",
    "    \"darknet2_llvm.h\"\n",
    ")"
   ]
  },
  {
   "cell_type": "code",
   "execution_count": 19,
   "metadata": {},
   "outputs": [
    {
     "data": {
      "text/plain": [
       "b''"
      ]
     },
     "execution_count": 19,
     "metadata": {},
     "output_type": "execute_result"
    }
   ],
   "source": [
    "import subprocess\n",
    "cmd_list=[\n",
    "    \"clang-format-6.0\",\n",
    "    \"-i\",\n",
    "    \"-style=llvm\",\n",
    "    header\n",
    "]\n",
    "subprocess.check_output(cmd_list)"
   ]
  },
  {
   "cell_type": "code",
   "execution_count": 25,
   "metadata": {},
   "outputs": [],
   "source": [
    "with open(header, \"r\") as fid:\n",
    "    data = fid.read()\n",
    "# https://pythex.org/\n",
    "func_defs = re.compile(r\"^([\\w_]+) (\\**[\\w_]+)\\(([^\\)]*)\\);\", re.MULTILINE)\n",
    "function_definitions = func_defs.findall(data)"
   ]
  },
  {
   "cell_type": "code",
   "execution_count": 26,
   "metadata": {},
   "outputs": [],
   "source": [
    "for function_definition in function_definitions:\n",
    "    break"
   ]
  },
  {
   "cell_type": "code",
   "execution_count": 27,
   "metadata": {},
   "outputs": [
    {
     "data": {
      "text/plain": [
       "('box', 'float_to_box', 'float *f, int stride')"
      ]
     },
     "execution_count": 27,
     "metadata": {},
     "output_type": "execute_result"
    }
   ],
   "source": [
    "function_definition"
   ]
  },
  {
   "cell_type": "code",
   "execution_count": 66,
   "metadata": {},
   "outputs": [
    {
     "data": {
      "text/plain": [
       "box float_to_box(float *f, int stride)"
      ]
     },
     "execution_count": 66,
     "metadata": {},
     "output_type": "execute_result"
    }
   ],
   "source": [
    "class FunctionDefinition(object):\n",
    "    def __init__(self, fcn_return, fcn_name, fcn_args):\n",
    "        self.fcn_return = fcn_return\n",
    "        self.fcn_name = fcn_name\n",
    "        self.fcn_args = fcn_args\n",
    "        \n",
    "    @property\n",
    "    def args(self):\n",
    "        fcn_args_ = self.fcn_args.split(\",\")\n",
    "        fcn_args_ = [f.strip() for f in fcn_args_]\n",
    "        return fcn_args_\n",
    "        \n",
    "    def __repr__(self):\n",
    "        return \"{} {}({})\".format(self.fcn_return,self.fcn_name,self.fcn_args)\n",
    "FunctionDefinition(*function_definition)"
   ]
  },
  {
   "cell_type": "code",
   "execution_count": 67,
   "metadata": {},
   "outputs": [
    {
     "data": {
      "text/plain": [
       "box float_to_box(float *f, int stride)"
      ]
     },
     "execution_count": 67,
     "metadata": {},
     "output_type": "execute_result"
    }
   ],
   "source": [
    "F = FunctionDefinition(*function_definition)\n",
    "F "
   ]
  },
  {
   "cell_type": "code",
   "execution_count": 77,
   "metadata": {},
   "outputs": [
    {
     "name": "stdout",
     "output_type": "stream",
     "text": [
      "\n",
      "def float_to_box(\n",
      "    self,\n",
      "\n",
      "    float *f,\n",
      "    int stride,)\n"
     ]
    }
   ],
   "source": [
    "func_template=\"\"\"\n",
    "def {{ F.fcn_name }}(\n",
    "    self,\n",
    "{% for arg in F.args %}\n",
    "    {{ arg }},\n",
    "{%- endfor %}\n",
    ")\n",
    "\"\"\"\n",
    "\n",
    "template = jinja2.Template(func_template)\n",
    "\n",
    "print(template.render(F=F))"
   ]
  },
  {
   "cell_type": "code",
   "execution_count": null,
   "metadata": {},
   "outputs": [],
   "source": []
  },
  {
   "cell_type": "code",
   "execution_count": null,
   "metadata": {},
   "outputs": [],
   "source": []
  }
 ],
 "metadata": {
  "kernelspec": {
   "display_name": "Python 3",
   "language": "python",
   "name": "python3"
  },
  "language_info": {
   "codemirror_mode": {
    "name": "ipython",
    "version": 3
   },
   "file_extension": ".py",
   "mimetype": "text/x-python",
   "name": "python",
   "nbconvert_exporter": "python",
   "pygments_lexer": "ipython3",
   "version": "3.6.5"
  }
 },
 "nbformat": 4,
 "nbformat_minor": 2
}
