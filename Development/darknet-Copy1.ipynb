{
 "cells": [
  {
   "cell_type": "code",
   "execution_count": 2,
   "metadata": {},
   "outputs": [],
   "source": [
    "import ctypes\n",
    "import math\n",
    "import random\n",
    "from cached_property import cached_property\n",
    "\n",
    "import os\n",
    "import subprocess"
   ]
  },
  {
   "cell_type": "code",
   "execution_count": 47,
   "metadata": {},
   "outputs": [],
   "source": [
    "def c_array(ctype, values):\n",
    "    arr = (ctype*len(values))()\n",
    "    arr[:] = values\n",
    "    return arr\n",
    "\n",
    "class BOX(ctypes.Structure):\n",
    "    _fields_ = [(\"x\", ctypes.c_float),\n",
    "                (\"y\", ctypes.c_float),\n",
    "                (\"w\", ctypes.c_float),\n",
    "                (\"h\", ctypes.c_float)]\n",
    "    \n",
    "    def __repr__(self):\n",
    "        return \"BOX<{}, {}, {}, {}>\".format(self.x, self.y, self.w, self.h)\n",
    "\n",
    "class DETECTION(ctypes.Structure):\n",
    "    _fields_ = [(\"bbox\", BOX),\n",
    "                (\"classes\", ctypes.c_int),\n",
    "                (\"prob\", ctypes.POINTER(ctypes.c_float)),\n",
    "                (\"mask\", ctypes.POINTER(ctypes.c_float)),\n",
    "                (\"objectness\", ctypes.c_float),\n",
    "                (\"sort_class\", ctypes.c_int)]\n",
    "\n",
    "\n",
    "class IMAGE(ctypes.Structure):\n",
    "    _fields_ = [(\"w\", ctypes.c_int),\n",
    "                (\"h\", ctypes.c_int),\n",
    "                (\"c\", ctypes.c_int),\n",
    "                (\"data\", ctypes.POINTER(ctypes.c_float))]\n",
    "    \n",
    "    def __repr__(self):\n",
    "        return \"IMAGE<{}, {}, {}>\".format(self.w, self.h, self.c)\n",
    "    \n",
    "class NETWORK(ctypes.Structure):\n",
    "    _fields_ = [\n",
    "    ]\n",
    "    \n",
    "    def __repr__(self):\n",
    "        return \"NETWORK<>\"\n",
    "\n",
    "class METADATA(ctypes.Structure):\n",
    "    _fields_ = [(\"classes\", ctypes.c_int),\n",
    "                (\"names\", ctypes.POINTER(ctypes.c_char_p))]\n",
    "    \n",
    "    \n",
    "    def names_(self):\n",
    "        pass\n",
    "        \n",
    "    \n",
    "    def __repr__(self):\n",
    "        return \"METADATA<{}>\".format(self.classes)"
   ]
  },
  {
   "cell_type": "code",
   "execution_count": 48,
   "metadata": {},
   "outputs": [],
   "source": [
    "# darknet gets angry if you don't use the darknet directory as 'root'.\n",
    "def chroot(f):\n",
    "    def wrapper(self, *args, **kwargs):\n",
    "        lwd = os.path.abspath(os.path.curdir)\n",
    "        os.chdir(self.root)\n",
    "        print(os.path.abspath(os.path.curdir))\n",
    "        ret = f(self, *args, **kwargs)\n",
    "        os.chdir(lwd)\n",
    "        print(os.path.abspath(os.path.curdir))\n",
    "        return ret\n",
    "    return wrapper\n",
    "\n",
    "class Darknet(object):\n",
    "    def __init__(self, root=\"..\"):\n",
    "        self.root=os.path.abspath(root)\n",
    "        \n",
    "    @property\n",
    "    def cfg_dir(self):\n",
    "        return os.path.abspath(\n",
    "            os.path.join(\n",
    "                self.root,\n",
    "                \"cfg\"\n",
    "            )\n",
    "        )\n",
    "    \n",
    "    @property\n",
    "    def exe(self):\n",
    "        return os.path.abspath(\n",
    "            os.path.join(\n",
    "                self.root,\n",
    "                \"darknet\"\n",
    "            )\n",
    "        )\n",
    "    \n",
    "    @property\n",
    "    def lib_path(self):\n",
    "        return os.path.abspath(\n",
    "            os.path.join(\n",
    "                self.root,\n",
    "                \"libdarknet.so\"\n",
    "            )\n",
    "        )\n",
    "    \n",
    "    @chroot\n",
    "    def null(self):\n",
    "        return \"\"\n",
    "    \n",
    "    @chroot\n",
    "    def build(self, force=False, **kwargs):\n",
    "        if os.path.exists(self.exe) and not force:\n",
    "            return \"\"\n",
    "        out = subprocess.check_output([\"make\", \"clean\"])\n",
    "       \n",
    "        for arg, value in kwargs.items():\n",
    "            if value:     \n",
    "                os.environ[arg.upper()]=\"1\"\n",
    "                #print(\"{}=1\".format(arg.upper()))\n",
    "            else:\n",
    "                os.environ[arg.upper()]=\"0\"\n",
    "                #print(\"{}=0\".format(arg.upper()))\n",
    "                \n",
    "        out = subprocess.check_output([\"make\", \"-j8\"])\n",
    "        return (out.decode(\"UTF-8\"))\n",
    "    \n",
    "    @cached_property\n",
    "    def lib(self):\n",
    "        lib_ = ctypes.CDLL(self.lib_path, ctypes.RTLD_GLOBAL)\n",
    "        lib_.network_width.argtypes = [ctypes.c_void_p]\n",
    "        lib_.network_width.restype = ctypes.c_int\n",
    "        lib_.network_height.argtypes = [ctypes.c_void_p]\n",
    "        lib_.network_height.restype = ctypes.c_int\n",
    "        return lib_\n",
    "    \n",
    "    @chroot\n",
    "    def load_meta(self, path):\n",
    "        path = os.path.abspath(path)\n",
    "       \n",
    "        self.lib.get_metadata.argtypes = [ctypes.c_char_p]\n",
    "        self.lib.get_metadata.restype = METADATA\n",
    "        self.meta = self.lib.get_metadata(ctypes.c_char_p(path.encode()))\n",
    "        \n",
    "    @chroot\n",
    "    def load_net(self, cfgfile, weightfile, clear=0):\n",
    "        cfgfile=os.path.abspath(cfgfile)\n",
    "        weightfile=os.path.abspath(weightfile)\n",
    "                 \n",
    "        self.lib.load_network.argtypes = [\n",
    "            ctypes.c_char_p,\n",
    "            ctypes.c_char_p,\n",
    "            ctypes.c_int,\n",
    "        ]\n",
    "        self.lib.load_network.restype = ctypes.POINTER(NETWORK)\n",
    "        \n",
    "        \n",
    "        cfgfile_=ctypes.c_char_p(cfgfile.encode(\"UTF-8\"))\n",
    "        weightfile_=ctypes.c_char_p(weightfile.encode(\"UTF-8\"))\n",
    "        clear_=ctypes.c_int(clear)\n",
    "        self.net = self.lib.load_network(cfgfile_, weightfile_, clear_)\n",
    "        \n",
    "        \n",
    "    def detect(self, image_path, thresh=.5, hier_thresh=.5, nms=.45):\n",
    "        im = self.load_image(image_path)\n",
    "        \n",
    "        \n",
    "\n",
    "        \n",
    "        self.network_predict_image.argtypes = [ctypes.c_void_p, IMAGE]\n",
    "        self.network_predict_image.restype = POINTER(ctypes.c_float)\n",
    "        \n",
    "        self.network_predict_image()\n",
    "        \n",
    "        \n",
    "        \"\"\"\n",
    "        \n",
    "        predict_image(net, im)\n",
    "        \n",
    "        num = ctypes.c_int(0)\n",
    "        pnum = pointer(num)\n",
    "        \n",
    "        dets = get_network_boxes(net, im.w, im.h, thresh, hier_thresh, None, 0, pnum)\n",
    "        num = pnum[0]\n",
    "        if (nms): do_nms_obj(dets, num, meta.classes, nms);\n",
    "\n",
    "        res = []\n",
    "        for j in range(num):\n",
    "            for i in range(meta.classes):\n",
    "                if dets[j].prob[i] > 0:\n",
    "                    b = dets[j].bbox\n",
    "                    res.append((meta.names[i], dets[j].prob[i], (b.x, b.y, b.w, b.h)))\n",
    "        res = sorted(res, key=lambda x: -x[1])\n",
    "        free_image(im)\n",
    "        free_detections(dets, num)\n",
    "        return res\"\"\"\n",
    "    \n",
    "    \n",
    "    def load_image(self, path, width=0, height=0, colors=0):\n",
    "        path=os.path.abspath(path)\n",
    "        load_image_ = self.lib.load_image_color\n",
    "        load_image_.argtypes = [\n",
    "            ctypes.c_char_p,\n",
    "            ctypes.c_int,\n",
    "            ctypes.c_int,\n",
    "            ctypes.c_int,\n",
    "        ]\n",
    "        load_image_.restype = IMAGE\n",
    "        \n",
    "        path_ = ctypes.c_char_p(path.encode(\"UTF-8\"))\n",
    "        width_ = ctypes.c_int(width)\n",
    "        height_ = ctypes.c_int(height)\n",
    "        colors_ = ctypes.c_int(colors)\n",
    "        \n",
    "        img = load_image_(path_, width_, height_, colors_)\n",
    "        return img\n",
    "        \n",
    "    def __repr__(self):\n",
    "        return \"Darknet<'{}'>\".format(self.lib_path)"
   ]
  },
  {
   "cell_type": "code",
   "execution_count": 49,
   "metadata": {},
   "outputs": [
    {
     "name": "stdout",
     "output_type": "stream",
     "text": [
      "/projects/darknet\n",
      "/tmp\n"
     ]
    }
   ],
   "source": [
    "os.chdir(\"/tmp/\")\n",
    "dn = Darknet(\"/projects/darknet/\")\n",
    "out = dn.build(opencv=False, openmp=False)"
   ]
  },
  {
   "cell_type": "code",
   "execution_count": 50,
   "metadata": {},
   "outputs": [
    {
     "name": "stdout",
     "output_type": "stream",
     "text": [
      "/projects/darknet\n",
      "/tmp\n"
     ]
    }
   ],
   "source": [
    "dn.load_meta(\"cfg/coco.data\")"
   ]
  },
  {
   "cell_type": "code",
   "execution_count": 51,
   "metadata": {},
   "outputs": [
    {
     "name": "stdout",
     "output_type": "stream",
     "text": [
      "/projects/darknet\n",
      "/tmp\n"
     ]
    }
   ],
   "source": [
    "dn.load_net(\"cfg/yolov3.cfg\", \"weights/yolov3.weights\", 0)"
   ]
  },
  {
   "cell_type": "code",
   "execution_count": 20,
   "metadata": {},
   "outputs": [],
   "source": [
    "img = \"/pictures/Vacation/Kids/IMG_0265.JPG\""
   ]
  },
  {
   "cell_type": "code",
   "execution_count": 21,
   "metadata": {},
   "outputs": [
    {
     "data": {
      "text/plain": [
       "IMAGE<4000, 3000, 3>"
      ]
     },
     "execution_count": 21,
     "metadata": {},
     "output_type": "execute_result"
    }
   ],
   "source": [
    "img_ = dn.load_image(img)\n",
    "img_"
   ]
  },
  {
   "cell_type": "code",
   "execution_count": null,
   "metadata": {},
   "outputs": [],
   "source": []
  },
  {
   "cell_type": "code",
   "execution_count": null,
   "metadata": {},
   "outputs": [],
   "source": [
    "#lib = CDLL(\"/home/pjreddie/documents/darknet/libdarknet.so\", RTLD_GLOBAL)\n",
    "\n",
    "lib.network_width.argtypes = [c_void_p]\n",
    "lib.network_width.restype = c_int\n",
    "lib.network_height.argtypes = [c_void_p]\n",
    "lib.network_height.restype = c_int"
   ]
  },
  {
   "cell_type": "code",
   "execution_count": null,
   "metadata": {},
   "outputs": [],
   "source": [
    "predict = lib.network_predict\n",
    "predict.argtypes = [c_void_p, POINTER(c_float)]\n",
    "predict.restype = POINTER(c_float)\n",
    "\n",
    "make_image = lib.make_image\n",
    "make_image.argtypes = [c_int, c_int, c_int]\n",
    "make_image.restype = IMAGE\n",
    "\n",
    "get_network_boxes = lib.get_network_boxes\n",
    "get_network_boxes.argtypes = [c_void_p, c_int, c_int, c_float, c_float, POINTER(c_int), c_int, POINTER(c_int)]\n",
    "get_network_boxes.restype = POINTER(DETECTION)\n",
    "\n",
    "make_network_boxes = lib.make_network_boxes\n",
    "make_network_boxes.argtypes = [c_void_p]\n",
    "make_network_boxes.restype = POINTER(DETECTION)\n",
    "\n",
    "free_detections = lib.free_detections\n",
    "free_detections.argtypes = [POINTER(DETECTION), c_int]\n",
    "\n",
    "free_ptrs = lib.free_ptrs\n",
    "free_ptrs.argtypes = [POINTER(c_void_p), c_int]\n",
    "\n",
    "network_predict = lib.network_predict\n",
    "network_predict.argtypes = [c_void_p, POINTER(c_float)]\n",
    "\n",
    "reset_rnn = lib.reset_rnn\n",
    "reset_rnn.argtypes = [c_void_p]\n",
    "\n",
    "load_net = lib.load_network\n",
    "load_net.argtypes = [c_char_p, c_char_p, c_int]\n",
    "load_net.restype = c_void_p\n",
    "\n",
    "do_nms_obj = lib.do_nms_obj\n",
    "do_nms_obj.argtypes = [POINTER(DETECTION), c_int, c_int, c_float]\n",
    "\n",
    "do_nms_sort = lib.do_nms_sort\n",
    "do_nms_sort.argtypes = [POINTER(DETECTION), c_int, c_int, c_float]\n",
    "\n",
    "free_image = lib.free_image\n",
    "free_image.argtypes = [IMAGE]\n",
    "\n",
    "letterbox_image = lib.letterbox_image\n",
    "letterbox_image.argtypes = [IMAGE, c_int, c_int]\n",
    "letterbox_image.restype = IMAGE\n",
    "\n",
    "load_meta = lib.get_metadata\n",
    "lib.get_metadata.argtypes = [c_char_p]\n",
    "lib.get_metadata.restype = METADATA\n",
    "\n",
    "load_image = lib.load_image_color\n",
    "load_image.argtypes = [c_char_p, c_int, c_int]\n",
    "load_image.restype = IMAGE\n",
    "\n",
    "predict_image = lib.network_predict_image\n",
    "predict_image.argtypes = [c_void_p, IMAGE]\n",
    "predict_image.restype = POINTER(c_float)\n",
    "\n",
    "def classify(net, meta, im):\n",
    "    out = predict_image(net, im)\n",
    "    res = []\n",
    "    for i in range(meta.classes):\n",
    "        res.append((meta.names[i], out[i]))\n",
    "    res = sorted(res, key=lambda x: -x[1])\n",
    "    return res\n",
    "\n",
    "def detect(net, meta, image, thresh=.5, hier_thresh=.5, nms=.45):\n",
    "    im = load_image(image, 0, 0)\n",
    "    num = c_int(0)\n",
    "    pnum = pointer(num)\n",
    "    predict_image(net, im)\n",
    "    dets = get_network_boxes(net, im.w, im.h, thresh, hier_thresh, None, 0, pnum)\n",
    "    num = pnum[0]\n",
    "    if (nms): do_nms_obj(dets, num, meta.classes, nms);\n",
    "\n",
    "    res = []\n",
    "    for j in range(num):\n",
    "        for i in range(meta.classes):\n",
    "            if dets[j].prob[i] > 0:\n",
    "                b = dets[j].bbox\n",
    "                res.append((meta.names[i], dets[j].prob[i], (b.x, b.y, b.w, b.h)))\n",
    "    res = sorted(res, key=lambda x: -x[1])\n",
    "    free_image(im)\n",
    "    free_detections(dets, num)\n",
    "    return res"
   ]
  },
  {
   "cell_type": "code",
   "execution_count": null,
   "metadata": {},
   "outputs": [],
   "source": [
    "import os"
   ]
  },
  {
   "cell_type": "code",
   "execution_count": null,
   "metadata": {},
   "outputs": [],
   "source": [
    "net = load_net(os.path.abspath(\"../cfg/yolov3.cfg\").encode(), os.path.abspath(\"../cfg/yolov3.weights\").encode(), 0)"
   ]
  },
  {
   "cell_type": "code",
   "execution_count": null,
   "metadata": {},
   "outputs": [],
   "source": [
    "dog_jpg = os.path.abspath(\"../data/dog.jpg\")\n",
    "assert os.path.exists(dog_jpg)"
   ]
  },
  {
   "cell_type": "code",
   "execution_count": null,
   "metadata": {},
   "outputs": [],
   "source": [
    "dog = load_image(dog_jpg.encode(), 0, 0)"
   ]
  },
  {
   "cell_type": "code",
   "execution_count": null,
   "metadata": {},
   "outputs": [],
   "source": [
    "num = c_int(0)\n",
    "pnum = pointer(num)\n",
    "predict_image(net, dog)"
   ]
  },
  {
   "cell_type": "code",
   "execution_count": null,
   "metadata": {},
   "outputs": [],
   "source": [
    "meta = load_meta(os.path.abspath(\"../cfg/coco.data\").encode())"
   ]
  },
  {
   "cell_type": "code",
   "execution_count": null,
   "metadata": {},
   "outputs": [],
   "source": [
    "if __name__ == \"__main__\":\n",
    "    #net = load_net(\"cfg/densenet201.cfg\", \"/home/pjreddie/trained/densenet201.weights\", 0)\n",
    "    #im = load_image(\"data/wolf.jpg\", 0, 0)\n",
    "    #meta = load_meta(\"cfg/imagenet1k.data\")\n",
    "    #r = classify(net, meta, im)\n",
    "    #print r[:10]\n",
    "    net = load_net(\"cfg/tiny-yolo.cfg\", \"tiny-yolo.weights\", 0)\n",
    "    meta = load_meta(\"cfg/coco.data\")\n",
    "    r = detect(net, meta, \"data/dog.jpg\")\n",
    "    print r\n",
    "    "
   ]
  },
  {
   "cell_type": "code",
   "execution_count": null,
   "metadata": {},
   "outputs": [],
   "source": [
    "def classify(net, meta, im):\n",
    "    out = predict_image(net, im)\n",
    "    res = []\n",
    "    for i in range(meta.classes):\n",
    "        res.append((meta.names[i], out[i]))\n",
    "    res = sorted(res, key=lambda x: -x[1])\n",
    "    return res\n"
   ]
  }
 ],
 "metadata": {
  "kernelspec": {
   "display_name": "Python 3",
   "language": "python",
   "name": "python3"
  },
  "language_info": {
   "codemirror_mode": {
    "name": "ipython",
    "version": 3
   },
   "file_extension": ".py",
   "mimetype": "text/x-python",
   "name": "python",
   "nbconvert_exporter": "python",
   "pygments_lexer": "ipython3",
   "version": "3.6.5"
  }
 },
 "nbformat": 4,
 "nbformat_minor": 2
}
