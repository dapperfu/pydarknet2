{
 "cells": [
  {
   "cell_type": "code",
   "execution_count": 1,
   "metadata": {},
   "outputs": [],
   "source": [
    "%load_ext autoreload\n",
    "%autoreload 2\n",
    "from pydarknet import Libdarknet"
   ]
  },
  {
   "cell_type": "code",
   "execution_count": 2,
   "metadata": {},
   "outputs": [],
   "source": [
    "self = Libdarknet()"
   ]
  },
  {
   "cell_type": "code",
   "execution_count": 3,
   "metadata": {},
   "outputs": [],
   "source": [
    "# Relative files are **relative** to the darknet directory!\n",
    "metadata = self.get_metadata(\"cfg/coco.data\")"
   ]
  },
  {
   "cell_type": "code",
   "execution_count": 4,
   "metadata": {},
   "outputs": [
    {
     "data": {
      "text/plain": [
       "Metadata<80>"
      ]
     },
     "execution_count": 4,
     "metadata": {},
     "output_type": "execute_result"
    }
   ],
   "source": [
    "metadata"
   ]
  },
  {
   "cell_type": "code",
   "execution_count": 5,
   "metadata": {},
   "outputs": [
    {
     "data": {
      "text/plain": [
       "'person'"
      ]
     },
     "execution_count": 5,
     "metadata": {},
     "output_type": "execute_result"
    }
   ],
   "source": [
    "metadata[0]"
   ]
  },
  {
   "cell_type": "code",
   "execution_count": 12,
   "metadata": {},
   "outputs": [
    {
     "data": {
      "text/plain": [
       "80"
      ]
     },
     "execution_count": 12,
     "metadata": {},
     "output_type": "execute_result"
    }
   ],
   "source": [
    "len(metadata)"
   ]
  },
  {
   "cell_type": "code",
   "execution_count": 13,
   "metadata": {},
   "outputs": [
    {
     "data": {
      "text/plain": [
       "80"
      ]
     },
     "execution_count": 13,
     "metadata": {},
     "output_type": "execute_result"
    }
   ],
   "source": [
    "metadata.classes"
   ]
  },
  {
   "cell_type": "code",
   "execution_count": 14,
   "metadata": {},
   "outputs": [
    {
     "data": {
      "text/plain": [
       "80"
      ]
     },
     "execution_count": 14,
     "metadata": {},
     "output_type": "execute_result"
    }
   ],
   "source": [
    "len(metadata.aslist())"
   ]
  },
  {
   "cell_type": "code",
   "execution_count": 15,
   "metadata": {},
   "outputs": [
    {
     "data": {
      "text/plain": [
       "<generator object Metadata.asgenerator at 0x7fe301fd7fc0>"
      ]
     },
     "execution_count": 15,
     "metadata": {},
     "output_type": "execute_result"
    }
   ],
   "source": [
    "metadata.asgenerator()"
   ]
  },
  {
   "cell_type": "code",
   "execution_count": 16,
   "metadata": {},
   "outputs": [
    {
     "data": {
      "text/plain": [
       "['person',\n",
       " 'bicycle',\n",
       " 'car',\n",
       " 'motorbike',\n",
       " 'aeroplane',\n",
       " 'bus',\n",
       " 'train',\n",
       " 'truck',\n",
       " 'boat',\n",
       " 'traffic light',\n",
       " 'fire hydrant',\n",
       " 'stop sign',\n",
       " 'parking meter',\n",
       " 'bench',\n",
       " 'bird',\n",
       " 'cat',\n",
       " 'dog',\n",
       " 'horse',\n",
       " 'sheep',\n",
       " 'cow',\n",
       " 'elephant',\n",
       " 'bear',\n",
       " 'zebra',\n",
       " 'giraffe',\n",
       " 'backpack',\n",
       " 'umbrella',\n",
       " 'handbag',\n",
       " 'tie',\n",
       " 'suitcase',\n",
       " 'frisbee',\n",
       " 'skis',\n",
       " 'snowboard',\n",
       " 'sports ball',\n",
       " 'kite',\n",
       " 'baseball bat',\n",
       " 'baseball glove',\n",
       " 'skateboard',\n",
       " 'surfboard',\n",
       " 'tennis racket',\n",
       " 'bottle',\n",
       " 'wine glass',\n",
       " 'cup',\n",
       " 'fork',\n",
       " 'knife',\n",
       " 'spoon',\n",
       " 'bowl',\n",
       " 'banana',\n",
       " 'apple',\n",
       " 'sandwich',\n",
       " 'orange',\n",
       " 'broccoli',\n",
       " 'carrot',\n",
       " 'hot dog',\n",
       " 'pizza',\n",
       " 'donut',\n",
       " 'cake',\n",
       " 'chair',\n",
       " 'sofa',\n",
       " 'pottedplant',\n",
       " 'bed',\n",
       " 'diningtable',\n",
       " 'toilet',\n",
       " 'tvmonitor',\n",
       " 'laptop',\n",
       " 'mouse',\n",
       " 'remote',\n",
       " 'keyboard',\n",
       " 'cell phone',\n",
       " 'microwave',\n",
       " 'oven',\n",
       " 'toaster',\n",
       " 'sink',\n",
       " 'refrigerator',\n",
       " 'book',\n",
       " 'clock',\n",
       " 'vase',\n",
       " 'scissors',\n",
       " 'teddy bear',\n",
       " 'hair drier',\n",
       " 'toothbrush']"
      ]
     },
     "execution_count": 16,
     "metadata": {},
     "output_type": "execute_result"
    }
   ],
   "source": [
    "metadata.aslist()"
   ]
  },
  {
   "cell_type": "code",
   "execution_count": 17,
   "metadata": {},
   "outputs": [
    {
     "name": "stdout",
     "output_type": "stream",
     "text": [
      "person\n",
      "bicycle\n",
      "car\n",
      "motorbike\n",
      "aeroplane\n",
      "bus\n",
      "train\n",
      "truck\n",
      "boat\n",
      "traffic light\n",
      "fire hydrant\n",
      "stop sign\n",
      "parking meter\n",
      "bench\n",
      "bird\n",
      "cat\n",
      "dog\n",
      "horse\n",
      "sheep\n",
      "cow\n",
      "elephant\n",
      "bear\n",
      "zebra\n",
      "giraffe\n",
      "backpack\n",
      "umbrella\n",
      "handbag\n",
      "tie\n",
      "suitcase\n",
      "frisbee\n",
      "skis\n",
      "snowboard\n",
      "sports ball\n",
      "kite\n",
      "baseball bat\n",
      "baseball glove\n",
      "skateboard\n",
      "surfboard\n",
      "tennis racket\n",
      "bottle\n",
      "wine glass\n",
      "cup\n",
      "fork\n",
      "knife\n",
      "spoon\n",
      "bowl\n",
      "banana\n",
      "apple\n",
      "sandwich\n",
      "orange\n",
      "broccoli\n",
      "carrot\n",
      "hot dog\n",
      "pizza\n",
      "donut\n",
      "cake\n",
      "chair\n",
      "sofa\n",
      "pottedplant\n",
      "bed\n",
      "diningtable\n",
      "toilet\n",
      "tvmonitor\n",
      "laptop\n",
      "mouse\n",
      "remote\n",
      "keyboard\n",
      "cell phone\n",
      "microwave\n",
      "oven\n",
      "toaster\n",
      "sink\n",
      "refrigerator\n",
      "book\n",
      "clock\n",
      "vase\n",
      "scissors\n",
      "teddy bear\n",
      "hair drier\n",
      "toothbrush\n"
     ]
    }
   ],
   "source": [
    "for x in metadata.asgenerator():\n",
    "    print(x)"
   ]
  },
  {
   "cell_type": "code",
   "execution_count": 18,
   "metadata": {},
   "outputs": [
    {
     "name": "stdout",
     "output_type": "stream",
     "text": [
      "0: person\n",
      "1: bicycle\n",
      "2: car\n",
      "3: motorbike\n",
      "4: aeroplane\n",
      "5: bus\n",
      "6: train\n",
      "7: truck\n",
      "8: boat\n",
      "9: traffic light\n",
      "10: fire hydrant\n",
      "11: stop sign\n",
      "12: parking meter\n",
      "13: bench\n",
      "14: bird\n",
      "15: cat\n",
      "16: dog\n",
      "17: horse\n",
      "18: sheep\n",
      "19: cow\n",
      "20: elephant\n",
      "21: bear\n",
      "22: zebra\n",
      "23: giraffe\n",
      "24: backpack\n",
      "25: umbrella\n",
      "26: handbag\n",
      "27: tie\n",
      "28: suitcase\n",
      "29: frisbee\n",
      "30: skis\n",
      "31: snowboard\n",
      "32: sports ball\n",
      "33: kite\n",
      "34: baseball bat\n",
      "35: baseball glove\n",
      "36: skateboard\n",
      "37: surfboard\n",
      "38: tennis racket\n",
      "39: bottle\n",
      "40: wine glass\n",
      "41: cup\n",
      "42: fork\n",
      "43: knife\n",
      "44: spoon\n",
      "45: bowl\n",
      "46: banana\n",
      "47: apple\n",
      "48: sandwich\n",
      "49: orange\n",
      "50: broccoli\n",
      "51: carrot\n",
      "52: hot dog\n",
      "53: pizza\n",
      "54: donut\n",
      "55: cake\n",
      "56: chair\n",
      "57: sofa\n",
      "58: pottedplant\n",
      "59: bed\n",
      "60: diningtable\n",
      "61: toilet\n",
      "62: tvmonitor\n",
      "63: laptop\n",
      "64: mouse\n",
      "65: remote\n",
      "66: keyboard\n",
      "67: cell phone\n",
      "68: microwave\n",
      "69: oven\n",
      "70: toaster\n",
      "71: sink\n",
      "72: refrigerator\n",
      "73: book\n",
      "74: clock\n",
      "75: vase\n",
      "76: scissors\n",
      "77: teddy bear\n",
      "78: hair drier\n",
      "79: toothbrush\n"
     ]
    }
   ],
   "source": [
    "for idx, field in enumerate(metadata):\n",
    "    print(\"{}: {}\".format(idx, field))"
   ]
  },
  {
   "cell_type": "code",
   "execution_count": null,
   "metadata": {},
   "outputs": [],
   "source": []
  }
 ],
 "metadata": {
  "kernelspec": {
   "display_name": "Python 3",
   "language": "python",
   "name": "python3"
  },
  "language_info": {
   "codemirror_mode": {
    "name": "ipython",
    "version": 3
   },
   "file_extension": ".py",
   "mimetype": "text/x-python",
   "name": "python",
   "nbconvert_exporter": "python",
   "pygments_lexer": "ipython3",
   "version": "3.6.5"
  }
 },
 "nbformat": 4,
 "nbformat_minor": 2
}
