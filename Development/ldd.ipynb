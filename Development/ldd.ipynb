{
 "cells": [
  {
   "cell_type": "code",
   "execution_count": 1,
   "metadata": {},
   "outputs": [],
   "source": [
    "import subprocess"
   ]
  },
  {
   "cell_type": "code",
   "execution_count": 2,
   "metadata": {},
   "outputs": [],
   "source": [
    "out = subprocess.check_output([\"ldd\", \"/tmp/darknet/libdarknet.so\"])"
   ]
  },
  {
   "cell_type": "code",
   "execution_count": 17,
   "metadata": {},
   "outputs": [],
   "source": [
    "for line in out.decode(\"UTF-8\").splitlines():\n",
    "    line=line.strip()\n",
    "    break"
   ]
  },
  {
   "cell_type": "code",
   "execution_count": 20,
   "metadata": {},
   "outputs": [
    {
     "data": {
      "text/plain": [
       "['libm.so.6', '=>', '/lib/x86_64-linux-gnu/libm.so.6', '(0x00007f251a3ad000)']"
      ]
     },
     "execution_count": 20,
     "metadata": {},
     "output_type": "execute_result"
    }
   ],
   "source": [
    "out.decode(\"UTF-8\").splitlines()[1].strip().split(\" \")"
   ]
  },
  {
   "cell_type": "code",
   "execution_count": 53,
   "metadata": {},
   "outputs": [],
   "source": [
    "class SharedDependency(object):\n",
    "    def __init__(self, line):\n",
    "        line=line.strip()\n",
    "        if \"vdso\" in line or \"ld-linux\" in line:\n",
    "            self.lib=line.split(\" \")[0]\n",
    "            self.addr=line.split(\" \")[1]\n",
    "            self.libpath=None\n",
    "        else:\n",
    "            self.lib=line.split(\" \")[0]\n",
    "            self.libpath=line.split(\" \")[2]\n",
    "            self.addr=line.split(\" \")[3]\n",
    "            \n",
    "    @property\n",
    "    def name(self):\n",
    "        name = self.lib[3:].split(\".\")[0]\n",
    "        return name\n",
    "    def __repr__(self):\n",
    "        return \"Library<{},{}>\".format(self.lib,self.name)\n",
    "            \n",
    "    def __eq__(self, other):\n",
    "        return self.lib==other.lib"
   ]
  },
  {
   "cell_type": "code",
   "execution_count": 54,
   "metadata": {},
   "outputs": [],
   "source": [
    "deps = list()\n",
    "for line in out.decode(\"UTF-8\").splitlines():\n",
    "    deps.append(SharedDependency(line))"
   ]
  },
  {
   "cell_type": "code",
   "execution_count": 55,
   "metadata": {},
   "outputs": [],
   "source": [
    "for dep in deps:\n",
    "    break"
   ]
  },
  {
   "cell_type": "code",
   "execution_count": 57,
   "metadata": {},
   "outputs": [
    {
     "data": {
      "text/plain": [
       "True"
      ]
     },
     "execution_count": 57,
     "metadata": {},
     "output_type": "execute_result"
    }
   ],
   "source": [
    "deps[0]==deps[0]"
   ]
  },
  {
   "cell_type": "code",
   "execution_count": 56,
   "metadata": {},
   "outputs": [
    {
     "data": {
      "text/plain": [
       "False"
      ]
     },
     "execution_count": 56,
     "metadata": {},
     "output_type": "execute_result"
    }
   ],
   "source": [
    "deps[0]==deps[1]"
   ]
  },
  {
   "cell_type": "code",
   "execution_count": 46,
   "metadata": {},
   "outputs": [
    {
     "data": {
      "text/plain": [
       "'ux-vdso'"
      ]
     },
     "execution_count": 46,
     "metadata": {},
     "output_type": "execute_result"
    }
   ],
   "source": [
    "dep.name"
   ]
  },
  {
   "cell_type": "code",
   "execution_count": 47,
   "metadata": {},
   "outputs": [
    {
     "data": {
      "text/plain": [
       "[Library<linux-vdso.so.1,ux-vdso>,\n",
       " Library<libm.so.6,m>,\n",
       " Library<libmvec.so.1,mvec>,\n",
       " Library<libopencv_highgui.so.3.2,opencv_highgui>,\n",
       " Library<libopencv_videoio.so.3.2,opencv_videoio>,\n",
       " Library<libopencv_imgcodecs.so.3.2,opencv_imgcodecs>,\n",
       " Library<libopencv_core.so.3.2,opencv_core>,\n",
       " Library<libpthread.so.0,pthread>,\n",
       " Library<libc.so.6,c>,\n",
       " Library</lib64/ld-linux-x86-64.so.2,b64/ld-linux-x86-64>,\n",
       " Library<libgtk-3.so.0,gtk-3>,\n",
       " Library<libgdk-3.so.0,gdk-3>,\n",
       " Library<libcairo.so.2,cairo>,\n",
       " Library<libgdk_pixbuf-2.0.so.0,gdk_pixbuf-2>,\n",
       " Library<libgobject-2.0.so.0,gobject-2>,\n",
       " Library<libglib-2.0.so.0,glib-2>,\n",
       " Library<libopencv_imgproc.so.3.2,opencv_imgproc>,\n",
       " Library<libstdc++.so.6,stdc++>,\n",
       " Library<libgcc_s.so.1,gcc_s>,\n",
       " Library<librt.so.1,rt>,\n",
       " Library<libdc1394.so.22,dc1394>,\n",
       " Library<libavcodec.so.57,avcodec>,\n",
       " Library<libavformat.so.57,avformat>,\n",
       " Library<libavutil.so.55,avutil>,\n",
       " Library<libswscale.so.4,swscale>,\n",
       " Library<libgphoto2.so.6,gphoto2>,\n",
       " Library<libgphoto2_port.so.12,gphoto2_port>,\n",
       " Library<libjpeg.so.8,jpeg>,\n",
       " Library<libwebp.so.6,webp>,\n",
       " Library<libpng16.so.16,png16>,\n",
       " Library<libgdcmMSFF.so.2.8,gdcmMSFF>,\n",
       " Library<libtiff.so.5,tiff>,\n",
       " Library<libIlmImf-2_2.so.22,IlmImf-2_2>,\n",
       " Library<libHalf.so.12,Half>,\n",
       " Library<libgdal.so.20,gdal>,\n",
       " Library<libgdcmDSED.so.2.8,gdcmDSED>,\n",
       " Library<libz.so.1,z>,\n",
       " Library<libdl.so.2,dl>,\n",
       " Library<libtbb.so.2,tbb>,\n",
       " Library<libgmodule-2.0.so.0,gmodule-2>,\n",
       " Library<libpangocairo-1.0.so.0,pangocairo-1>,\n",
       " Library<libX11.so.6,X11>,\n",
       " Library<libXi.so.6,Xi>,\n",
       " Library<libXfixes.so.3,Xfixes>,\n",
       " Library<libcairo-gobject.so.2,cairo-gobject>,\n",
       " Library<libatk-1.0.so.0,atk-1>,\n",
       " Library<libatk-bridge-2.0.so.0,atk-bridge-2>,\n",
       " Library<libepoxy.so.0,epoxy>,\n",
       " Library<libpangoft2-1.0.so.0,pangoft2-1>,\n",
       " Library<libpango-1.0.so.0,pango-1>,\n",
       " Library<libfontconfig.so.1,fontconfig>,\n",
       " Library<libgio-2.0.so.0,gio-2>,\n",
       " Library<libXinerama.so.1,Xinerama>,\n",
       " Library<libXrandr.so.2,Xrandr>,\n",
       " Library<libXcursor.so.1,Xcursor>,\n",
       " Library<libXcomposite.so.1,Xcomposite>,\n",
       " Library<libXdamage.so.1,Xdamage>,\n",
       " Library<libxkbcommon.so.0,xkbcommon>,\n",
       " Library<libwayland-cursor.so.0,wayland-cursor>,\n",
       " Library<libwayland-egl.so.1,wayland-egl>,\n",
       " Library<libwayland-client.so.0,wayland-client>,\n",
       " Library<libXext.so.6,Xext>,\n",
       " Library<libpixman-1.so.0,pixman-1>,\n",
       " Library<libfreetype.so.6,freetype>,\n",
       " Library<libxcb-shm.so.0,xcb-shm>,\n",
       " Library<libxcb.so.1,xcb>,\n",
       " Library<libxcb-render.so.0,xcb-render>,\n",
       " Library<libXrender.so.1,Xrender>,\n",
       " Library<libffi.so.6,ffi>,\n",
       " Library<libpcre.so.3,pcre>,\n",
       " Library<libraw1394.so.11,raw1394>,\n",
       " Library<libusb-1.0.so.0,usb-1>,\n",
       " Library<libswresample.so.2,swresample>,\n",
       " Library<libcrystalhd.so.3,crystalhd>,\n",
       " Library<libva.so.2,va>,\n",
       " Library<libzvbi.so.0,zvbi>,\n",
       " Library<libxvidcore.so.4,xvidcore>,\n",
       " Library<libx265.so.146,x265>,\n",
       " Library<libx264.so.152,x264>,\n",
       " Library<libwebpmux.so.3,webpmux>,\n",
       " Library<libwavpack.so.1,wavpack>,\n",
       " Library<libvpx.so.5,vpx>,\n",
       " Library<libvorbisenc.so.2,vorbisenc>,\n",
       " Library<libvorbis.so.0,vorbis>,\n",
       " Library<libtwolame.so.0,twolame>,\n",
       " Library<libtheoraenc.so.1,theoraenc>,\n",
       " Library<libtheoradec.so.1,theoradec>,\n",
       " Library<libspeex.so.1,speex>,\n",
       " Library<libsnappy.so.1,snappy>,\n",
       " Library<libshine.so.3,shine>,\n",
       " Library<librsvg-2.so.2,rsvg-2>,\n",
       " Library<libopus.so.0,opus>,\n",
       " Library<libopenjp2.so.7,openjp2>,\n",
       " Library<libmp3lame.so.0,mp3lame>,\n",
       " Library<libgsm.so.1,gsm>,\n",
       " Library<liblzma.so.5,lzma>,\n",
       " Library<libssh-gcrypt.so.4,ssh-gcrypt>,\n",
       " Library<libopenmpt.so.0,openmpt>,\n",
       " Library<libbluray.so.2,bluray>,\n",
       " Library<libgnutls.so.30,gnutls>,\n",
       " Library<libxml2.so.2,xml2>,\n",
       " Library<libgme.so.0,gme>,\n",
       " Library<libchromaprint.so.1,chromaprint>,\n",
       " Library<libbz2.so.1.0,bz2>,\n",
       " Library<libdrm.so.2,drm>,\n",
       " Library<libvdpau.so.1,vdpau>,\n",
       " Library<libva-x11.so.2,va-x11>,\n",
       " Library<libva-drm.so.2,va-drm>,\n",
       " Library<libltdl.so.7,ltdl>,\n",
       " Library<libexif.so.12,exif>,\n",
       " Library<libgdcmIOD.so.2.8,gdcmIOD>,\n",
       " Library<libgdcmDICT.so.2.8,gdcmDICT>,\n",
       " Library<libgdcmjpeg8.so.2.8,gdcmjpeg8>,\n",
       " Library<libgdcmjpeg12.so.2.8,gdcmjpeg12>,\n",
       " Library<libgdcmjpeg16.so.2.8,gdcmjpeg16>,\n",
       " Library<libCharLS.so.1,CharLS>,\n",
       " Library<libuuid.so.1,uuid>,\n",
       " Library<libjson-c.so.3,json-c>,\n",
       " Library<libgdcmCommon.so.2.8,gdcmCommon>,\n",
       " Library<libjbig.so.0,jbig>,\n",
       " Library<libIex-2_2.so.12,Iex-2_2>,\n",
       " Library<libIlmThread-2_2.so.12,IlmThread-2_2>,\n",
       " Library<libarmadillo.so.8,armadillo>,\n",
       " Library<libproj.so.12,proj>,\n",
       " Library<libpoppler.so.73,poppler>,\n",
       " Library<libfreexl.so.1,freexl>,\n",
       " Library<libqhull.so.7,qhull>,\n",
       " Library<libgeos_c.so.1,geos_c>,\n",
       " Library<libepsilon.so.1,epsilon>,\n",
       " Library<libodbc.so.2,odbc>,\n",
       " Library<libodbcinst.so.2,odbcinst>,\n",
       " Library<libkmlbase.so.1,kmlbase>,\n",
       " Library<libkmldom.so.1,kmldom>,\n",
       " Library<libkmlengine.so.1,kmlengine>,\n",
       " Library<libexpat.so.1,expat>,\n",
       " Library<libxerces-c-3.2.so,xerces-c-3>,\n",
       " Library<libnetcdf.so.13,netcdf>,\n",
       " Library<libhdf5_serial.so.100,hdf5_serial>,\n",
       " Library<libmfhdfalt.so.0,mfhdfalt>,\n",
       " Library<libdfalt.so.0,dfalt>,\n",
       " Library<libogdi.so.3.2,ogdi>,\n",
       " Library<libgif.so.7,gif>,\n",
       " Library<libgeotiff.so.2,geotiff>,\n",
       " Library<libpq.so.5,pq>,\n",
       " Library<libdapclient.so.6,dapclient>,\n",
       " Library<libdap.so.25,dap>,\n",
       " Library<libspatialite.so.7,spatialite>,\n",
       " Library<libcurl-gnutls.so.4,curl-gnutls>,\n",
       " Library<libfyba.so.0,fyba>,\n",
       " Library<libmysqlclient.so.20,mysqlclient>,\n",
       " Library<libdbus-1.so.3,dbus-1>,\n",
       " Library<libatspi.so.0,atspi>,\n",
       " Library<libharfbuzz.so.0,harfbuzz>,\n",
       " Library<libthai.so.0,thai>,\n",
       " Library<libselinux.so.1,selinux>,\n",
       " Library<libresolv.so.2,resolv>,\n",
       " Library<libmount.so.1,mount>,\n",
       " Library<libXau.so.6,Xau>,\n",
       " Library<libXdmcp.so.6,Xdmcp>,\n",
       " Library<libudev.so.1,udev>,\n",
       " Library<libsoxr.so.0,soxr>,\n",
       " Library<libnuma.so.1,numa>,\n",
       " Library<libogg.so.0,ogg>,\n",
       " Library<libcroco-0.6.so.3,croco-0>,\n",
       " Library<libgcrypt.so.20,gcrypt>,\n",
       " Library<libgssapi_krb5.so.2,gssapi_krb5>,\n",
       " Library<libmpg123.so.0,mpg123>,\n",
       " Library<libvorbisfile.so.3,vorbisfile>,\n",
       " Library<libp11-kit.so.0,p11-kit>,\n",
       " Library<libidn2.so.0,idn2>,\n",
       " Library<libunistring.so.2,unistring>,\n",
       " Library<libtasn1.so.6,tasn1>,\n",
       " Library<libnettle.so.6,nettle>,\n",
       " Library<libhogweed.so.4,hogweed>,\n",
       " Library<libgmp.so.10,gmp>,\n",
       " Library<libicuuc.so.60,icuuc>,\n",
       " Library<libcrypto.so.1.1,crypto>,\n",
       " Library<libblas.so.3,blas>,\n",
       " Library<liblapack.so.3,lapack>,\n",
       " Library<libarpack.so.2,arpack>,\n",
       " Library<libsuperlu.so.5,superlu>,\n",
       " Library<libnss3.so,nss3>,\n",
       " Library<libsmime3.so,smime3>,\n",
       " Library<libnspr4.so,nspr4>,\n",
       " Library<liblcms2.so.2,lcms2>,\n",
       " Library<libgeos-3.6.2.so,geos-3>,\n",
       " Library<libminizip.so.1,minizip>,\n",
       " Library<liburiparser.so.1,uriparser>,\n",
       " Library<libhdf5_serial_hl.so.100,hdf5_serial_hl>,\n",
       " Library<libsz.so.2,sz>,\n",
       " Library<libssl.so.1.1,ssl>,\n",
       " Library<libldap_r-2.4.so.2,ldap_r-2>,\n",
       " Library<libsqlite3.so.0,sqlite3>,\n",
       " Library<libnghttp2.so.14,nghttp2>,\n",
       " Library<librtmp.so.1,rtmp>,\n",
       " Library<libpsl.so.5,psl>,\n",
       " Library<liblber-2.4.so.2,lber-2>,\n",
       " Library<libfyut.so.0,fyut>,\n",
       " Library<libfygm.so.0,fygm>,\n",
       " Library<libsystemd.so.0,systemd>,\n",
       " Library<libgraphite2.so.3,graphite2>,\n",
       " Library<libdatrie.so.1,datrie>,\n",
       " Library<libblkid.so.1,blkid>,\n",
       " Library<libbsd.so.0,bsd>,\n",
       " Library<libgomp.so.1,gomp>,\n",
       " Library<libgpg-error.so.0,gpg-error>,\n",
       " Library<libkrb5.so.3,krb5>,\n",
       " Library<libk5crypto.so.3,k5crypto>,\n",
       " Library<libcom_err.so.2,com_err>,\n",
       " Library<libkrb5support.so.0,krb5support>,\n",
       " Library<libicudata.so.60,icudata>,\n",
       " Library<libgfortran.so.4,gfortran>,\n",
       " Library<libnssutil3.so,nssutil3>,\n",
       " Library<libplc4.so,plc4>,\n",
       " Library<libplds4.so,plds4>,\n",
       " Library<libaec.so.0,aec>,\n",
       " Library<libsasl2.so.2,sasl2>,\n",
       " Library<libgssapi.so.3,gssapi>,\n",
       " Library<liblz4.so.1,lz4>,\n",
       " Library<libkeyutils.so.1,keyutils>,\n",
       " Library<libquadmath.so.0,quadmath>,\n",
       " Library<libheimntlm.so.0,heimntlm>,\n",
       " Library<libkrb5.so.26,krb5>,\n",
       " Library<libasn1.so.8,asn1>,\n",
       " Library<libhcrypto.so.4,hcrypto>,\n",
       " Library<libroken.so.18,roken>,\n",
       " Library<libwind.so.0,wind>,\n",
       " Library<libheimbase.so.1,heimbase>,\n",
       " Library<libhx509.so.5,hx509>,\n",
       " Library<libcrypt.so.1,crypt>]"
      ]
     },
     "execution_count": 47,
     "metadata": {},
     "output_type": "execute_result"
    }
   ],
   "source": [
    "deps"
   ]
  },
  {
   "cell_type": "code",
   "execution_count": 58,
   "metadata": {},
   "outputs": [],
   "source": [
    "out = subprocess.check_output([\"ldd\", \"/tmp/darknet/libdarknet.so\"])\n",
    "deps2 = list()\n",
    "for line in out.decode(\"UTF-8\").splitlines():\n",
    "    deps2.append(SharedDependency(line))"
   ]
  },
  {
   "cell_type": "code",
   "execution_count": 59,
   "metadata": {},
   "outputs": [
    {
     "data": {
      "text/plain": [
       "230"
      ]
     },
     "execution_count": 59,
     "metadata": {},
     "output_type": "execute_result"
    }
   ],
   "source": [
    "len(deps2)"
   ]
  },
  {
   "cell_type": "code",
   "execution_count": 60,
   "metadata": {},
   "outputs": [
    {
     "data": {
      "text/plain": [
       "230"
      ]
     },
     "execution_count": 60,
     "metadata": {},
     "output_type": "execute_result"
    }
   ],
   "source": [
    "len(deps)"
   ]
  },
  {
   "cell_type": "code",
   "execution_count": null,
   "metadata": {},
   "outputs": [],
   "source": []
  }
 ],
 "metadata": {
  "kernelspec": {
   "display_name": "Python 3",
   "language": "python",
   "name": "python3"
  },
  "language_info": {
   "codemirror_mode": {
    "name": "ipython",
    "version": 3
   },
   "file_extension": ".py",
   "mimetype": "text/x-python",
   "name": "python",
   "nbconvert_exporter": "python",
   "pygments_lexer": "ipython3",
   "version": "3.6.5"
  }
 },
 "nbformat": 4,
 "nbformat_minor": 2
}
