{
 "cells": [
  {
   "cell_type": "code",
   "execution_count": 1,
   "metadata": {},
   "outputs": [],
   "source": [
    "import subprocess"
   ]
  },
  {
   "cell_type": "code",
   "execution_count": 2,
   "metadata": {},
   "outputs": [],
   "source": [
    "out = subprocess.check_output([\"ldd\", \"/tmp/darknet/libdarknet.so\"])"
   ]
  },
  {
   "cell_type": "code",
   "execution_count": 17,
   "metadata": {},
   "outputs": [],
   "source": [
    "for line in out.decode(\"UTF-8\").splitlines():\n",
    "    line=line.strip()\n",
    "    break"
   ]
  },
  {
   "cell_type": "code",
   "execution_count": 20,
   "metadata": {},
   "outputs": [
    {
     "data": {
      "text/plain": [
       "['libm.so.6', '=>', '/lib/x86_64-linux-gnu/libm.so.6', '(0x00007f251a3ad000)']"
      ]
     },
     "execution_count": 20,
     "metadata": {},
     "output_type": "execute_result"
    }
   ],
   "source": [
    "out.decode(\"UTF-8\").splitlines()[1].strip().split(\" \")"
   ]
  },
  {
   "cell_type": "code",
   "execution_count": null,
   "metadata": {},
   "outputs": [],
   "source": []
  },
  {
   "cell_type": "code",
   "execution_count": 15,
   "metadata": {},
   "outputs": [
    {
     "data": {
      "text/plain": [
       "['linux-vdso.so.1', '(0x00007ffdb71a4000)']"
      ]
     },
     "execution_count": 15,
     "metadata": {},
     "output_type": "execute_result"
    }
   ],
   "source": [
    "line.split(\" \")"
   ]
  },
  {
   "cell_type": "code",
   "execution_count": 16,
   "metadata": {},
   "outputs": [
    {
     "data": {
      "text/plain": [
       "True"
      ]
     },
     "execution_count": 16,
     "metadata": {},
     "output_type": "execute_result"
    }
   ],
   "source": []
  },
  {
   "cell_type": "code",
   "execution_count": 27,
   "metadata": {},
   "outputs": [],
   "source": [
    "class SharedDependency(object):\n",
    "    def __init__(self, line):\n",
    "        line=line.strip()\n",
    "        if \"vdso\" in line or \"ld-linux\" in line:\n",
    "            self.lib=line.split(\" \")[0]\n",
    "            self.addr=line.split(\" \")[1]\n",
    "            self.libpath=None\n",
    "        else:\n",
    "            self.lib=line.split(\" \")[0]\n",
    "            self.libpath=line.split(\" \")[2]\n",
    "            self.addr=line.split(\" \")[3]\n",
    "            \n",
    "    def __repr__(self):\n",
    "        return \"Library<{},{}>\".format(self.lib,self.libpath)\n",
    "            \n",
    "        "
   ]
  },
  {
   "cell_type": "code",
   "execution_count": 28,
   "metadata": {},
   "outputs": [],
   "source": [
    "dep = list()\n",
    "for line in out.decode(\"UTF-8\").splitlines():\n",
    "    dep.append(SharedDependency(line))"
   ]
  },
  {
   "cell_type": "code",
   "execution_count": 29,
   "metadata": {},
   "outputs": [
    {
     "data": {
      "text/plain": [
       "[Library<linux-vdso.so.1,None>,\n",
       " Library<libm.so.6,/lib/x86_64-linux-gnu/libm.so.6>,\n",
       " Library<libmvec.so.1,/lib/x86_64-linux-gnu/libmvec.so.1>,\n",
       " Library<libopencv_highgui.so.3.2,/usr/lib/x86_64-linux-gnu/libopencv_highgui.so.3.2>,\n",
       " Library<libopencv_videoio.so.3.2,/usr/lib/x86_64-linux-gnu/libopencv_videoio.so.3.2>,\n",
       " Library<libopencv_imgcodecs.so.3.2,/usr/lib/x86_64-linux-gnu/libopencv_imgcodecs.so.3.2>,\n",
       " Library<libopencv_core.so.3.2,/usr/lib/x86_64-linux-gnu/libopencv_core.so.3.2>,\n",
       " Library<libpthread.so.0,/lib/x86_64-linux-gnu/libpthread.so.0>,\n",
       " Library<libc.so.6,/lib/x86_64-linux-gnu/libc.so.6>,\n",
       " Library</lib64/ld-linux-x86-64.so.2,None>,\n",
       " Library<libgtk-3.so.0,/usr/lib/x86_64-linux-gnu/libgtk-3.so.0>,\n",
       " Library<libgdk-3.so.0,/usr/lib/x86_64-linux-gnu/libgdk-3.so.0>,\n",
       " Library<libcairo.so.2,/usr/lib/x86_64-linux-gnu/libcairo.so.2>,\n",
       " Library<libgdk_pixbuf-2.0.so.0,/usr/lib/x86_64-linux-gnu/libgdk_pixbuf-2.0.so.0>,\n",
       " Library<libgobject-2.0.so.0,/usr/lib/x86_64-linux-gnu/libgobject-2.0.so.0>,\n",
       " Library<libglib-2.0.so.0,/usr/lib/x86_64-linux-gnu/libglib-2.0.so.0>,\n",
       " Library<libopencv_imgproc.so.3.2,/usr/lib/x86_64-linux-gnu/libopencv_imgproc.so.3.2>,\n",
       " Library<libstdc++.so.6,/usr/lib/x86_64-linux-gnu/libstdc++.so.6>,\n",
       " Library<libgcc_s.so.1,/lib/x86_64-linux-gnu/libgcc_s.so.1>,\n",
       " Library<librt.so.1,/lib/x86_64-linux-gnu/librt.so.1>,\n",
       " Library<libdc1394.so.22,/usr/lib/x86_64-linux-gnu/libdc1394.so.22>,\n",
       " Library<libavcodec.so.57,/usr/lib/x86_64-linux-gnu/libavcodec.so.57>,\n",
       " Library<libavformat.so.57,/usr/lib/x86_64-linux-gnu/libavformat.so.57>,\n",
       " Library<libavutil.so.55,/usr/lib/x86_64-linux-gnu/libavutil.so.55>,\n",
       " Library<libswscale.so.4,/usr/lib/x86_64-linux-gnu/libswscale.so.4>,\n",
       " Library<libgphoto2.so.6,/usr/lib/x86_64-linux-gnu/libgphoto2.so.6>,\n",
       " Library<libgphoto2_port.so.12,/usr/lib/x86_64-linux-gnu/libgphoto2_port.so.12>,\n",
       " Library<libjpeg.so.8,/usr/lib/x86_64-linux-gnu/libjpeg.so.8>,\n",
       " Library<libwebp.so.6,/usr/lib/x86_64-linux-gnu/libwebp.so.6>,\n",
       " Library<libpng16.so.16,/usr/lib/x86_64-linux-gnu/libpng16.so.16>,\n",
       " Library<libgdcmMSFF.so.2.8,/usr/lib/x86_64-linux-gnu/libgdcmMSFF.so.2.8>,\n",
       " Library<libtiff.so.5,/usr/lib/x86_64-linux-gnu/libtiff.so.5>,\n",
       " Library<libIlmImf-2_2.so.22,/usr/lib/x86_64-linux-gnu/libIlmImf-2_2.so.22>,\n",
       " Library<libHalf.so.12,/usr/lib/x86_64-linux-gnu/libHalf.so.12>,\n",
       " Library<libgdal.so.20,/usr/lib/libgdal.so.20>,\n",
       " Library<libgdcmDSED.so.2.8,/usr/lib/x86_64-linux-gnu/libgdcmDSED.so.2.8>,\n",
       " Library<libz.so.1,/lib/x86_64-linux-gnu/libz.so.1>,\n",
       " Library<libdl.so.2,/lib/x86_64-linux-gnu/libdl.so.2>,\n",
       " Library<libtbb.so.2,/usr/lib/x86_64-linux-gnu/libtbb.so.2>,\n",
       " Library<libgmodule-2.0.so.0,/usr/lib/x86_64-linux-gnu/libgmodule-2.0.so.0>,\n",
       " Library<libpangocairo-1.0.so.0,/usr/lib/x86_64-linux-gnu/libpangocairo-1.0.so.0>,\n",
       " Library<libX11.so.6,/usr/lib/x86_64-linux-gnu/libX11.so.6>,\n",
       " Library<libXi.so.6,/usr/lib/x86_64-linux-gnu/libXi.so.6>,\n",
       " Library<libXfixes.so.3,/usr/lib/x86_64-linux-gnu/libXfixes.so.3>,\n",
       " Library<libcairo-gobject.so.2,/usr/lib/x86_64-linux-gnu/libcairo-gobject.so.2>,\n",
       " Library<libatk-1.0.so.0,/usr/lib/x86_64-linux-gnu/libatk-1.0.so.0>,\n",
       " Library<libatk-bridge-2.0.so.0,/usr/lib/x86_64-linux-gnu/libatk-bridge-2.0.so.0>,\n",
       " Library<libepoxy.so.0,/usr/lib/x86_64-linux-gnu/libepoxy.so.0>,\n",
       " Library<libpangoft2-1.0.so.0,/usr/lib/x86_64-linux-gnu/libpangoft2-1.0.so.0>,\n",
       " Library<libpango-1.0.so.0,/usr/lib/x86_64-linux-gnu/libpango-1.0.so.0>,\n",
       " Library<libfontconfig.so.1,/usr/lib/x86_64-linux-gnu/libfontconfig.so.1>,\n",
       " Library<libgio-2.0.so.0,/usr/lib/x86_64-linux-gnu/libgio-2.0.so.0>,\n",
       " Library<libXinerama.so.1,/usr/lib/x86_64-linux-gnu/libXinerama.so.1>,\n",
       " Library<libXrandr.so.2,/usr/lib/x86_64-linux-gnu/libXrandr.so.2>,\n",
       " Library<libXcursor.so.1,/usr/lib/x86_64-linux-gnu/libXcursor.so.1>,\n",
       " Library<libXcomposite.so.1,/usr/lib/x86_64-linux-gnu/libXcomposite.so.1>,\n",
       " Library<libXdamage.so.1,/usr/lib/x86_64-linux-gnu/libXdamage.so.1>,\n",
       " Library<libxkbcommon.so.0,/usr/lib/x86_64-linux-gnu/libxkbcommon.so.0>,\n",
       " Library<libwayland-cursor.so.0,/usr/lib/x86_64-linux-gnu/libwayland-cursor.so.0>,\n",
       " Library<libwayland-egl.so.1,/usr/lib/x86_64-linux-gnu/libwayland-egl.so.1>,\n",
       " Library<libwayland-client.so.0,/usr/lib/x86_64-linux-gnu/libwayland-client.so.0>,\n",
       " Library<libXext.so.6,/usr/lib/x86_64-linux-gnu/libXext.so.6>,\n",
       " Library<libpixman-1.so.0,/usr/lib/x86_64-linux-gnu/libpixman-1.so.0>,\n",
       " Library<libfreetype.so.6,/usr/lib/x86_64-linux-gnu/libfreetype.so.6>,\n",
       " Library<libxcb-shm.so.0,/usr/lib/x86_64-linux-gnu/libxcb-shm.so.0>,\n",
       " Library<libxcb.so.1,/usr/lib/x86_64-linux-gnu/libxcb.so.1>,\n",
       " Library<libxcb-render.so.0,/usr/lib/x86_64-linux-gnu/libxcb-render.so.0>,\n",
       " Library<libXrender.so.1,/usr/lib/x86_64-linux-gnu/libXrender.so.1>,\n",
       " Library<libffi.so.6,/usr/lib/x86_64-linux-gnu/libffi.so.6>,\n",
       " Library<libpcre.so.3,/lib/x86_64-linux-gnu/libpcre.so.3>,\n",
       " Library<libraw1394.so.11,/usr/lib/x86_64-linux-gnu/libraw1394.so.11>,\n",
       " Library<libusb-1.0.so.0,/lib/x86_64-linux-gnu/libusb-1.0.so.0>,\n",
       " Library<libswresample.so.2,/usr/lib/x86_64-linux-gnu/libswresample.so.2>,\n",
       " Library<libcrystalhd.so.3,/usr/lib/x86_64-linux-gnu/libcrystalhd.so.3>,\n",
       " Library<libva.so.2,/usr/lib/x86_64-linux-gnu/libva.so.2>,\n",
       " Library<libzvbi.so.0,/usr/lib/x86_64-linux-gnu/libzvbi.so.0>,\n",
       " Library<libxvidcore.so.4,/usr/lib/x86_64-linux-gnu/libxvidcore.so.4>,\n",
       " Library<libx265.so.146,/usr/lib/x86_64-linux-gnu/libx265.so.146>,\n",
       " Library<libx264.so.152,/usr/lib/x86_64-linux-gnu/libx264.so.152>,\n",
       " Library<libwebpmux.so.3,/usr/lib/x86_64-linux-gnu/libwebpmux.so.3>,\n",
       " Library<libwavpack.so.1,/usr/lib/x86_64-linux-gnu/libwavpack.so.1>,\n",
       " Library<libvpx.so.5,/usr/lib/x86_64-linux-gnu/libvpx.so.5>,\n",
       " Library<libvorbisenc.so.2,/usr/lib/x86_64-linux-gnu/libvorbisenc.so.2>,\n",
       " Library<libvorbis.so.0,/usr/lib/x86_64-linux-gnu/libvorbis.so.0>,\n",
       " Library<libtwolame.so.0,/usr/lib/x86_64-linux-gnu/libtwolame.so.0>,\n",
       " Library<libtheoraenc.so.1,/usr/lib/x86_64-linux-gnu/libtheoraenc.so.1>,\n",
       " Library<libtheoradec.so.1,/usr/lib/x86_64-linux-gnu/libtheoradec.so.1>,\n",
       " Library<libspeex.so.1,/usr/lib/x86_64-linux-gnu/libspeex.so.1>,\n",
       " Library<libsnappy.so.1,/usr/lib/x86_64-linux-gnu/libsnappy.so.1>,\n",
       " Library<libshine.so.3,/usr/lib/x86_64-linux-gnu/libshine.so.3>,\n",
       " Library<librsvg-2.so.2,/usr/lib/x86_64-linux-gnu/librsvg-2.so.2>,\n",
       " Library<libopus.so.0,/usr/lib/x86_64-linux-gnu/libopus.so.0>,\n",
       " Library<libopenjp2.so.7,/usr/lib/x86_64-linux-gnu/libopenjp2.so.7>,\n",
       " Library<libmp3lame.so.0,/usr/lib/x86_64-linux-gnu/libmp3lame.so.0>,\n",
       " Library<libgsm.so.1,/usr/lib/x86_64-linux-gnu/libgsm.so.1>,\n",
       " Library<liblzma.so.5,/lib/x86_64-linux-gnu/liblzma.so.5>,\n",
       " Library<libssh-gcrypt.so.4,/usr/lib/x86_64-linux-gnu/libssh-gcrypt.so.4>,\n",
       " Library<libopenmpt.so.0,/usr/lib/x86_64-linux-gnu/libopenmpt.so.0>,\n",
       " Library<libbluray.so.2,/usr/lib/x86_64-linux-gnu/libbluray.so.2>,\n",
       " Library<libgnutls.so.30,/usr/lib/x86_64-linux-gnu/libgnutls.so.30>,\n",
       " Library<libxml2.so.2,/usr/lib/x86_64-linux-gnu/libxml2.so.2>,\n",
       " Library<libgme.so.0,/usr/lib/x86_64-linux-gnu/libgme.so.0>,\n",
       " Library<libchromaprint.so.1,/usr/lib/x86_64-linux-gnu/libchromaprint.so.1>,\n",
       " Library<libbz2.so.1.0,/lib/x86_64-linux-gnu/libbz2.so.1.0>,\n",
       " Library<libdrm.so.2,/usr/lib/x86_64-linux-gnu/libdrm.so.2>,\n",
       " Library<libvdpau.so.1,/usr/lib/x86_64-linux-gnu/libvdpau.so.1>,\n",
       " Library<libva-x11.so.2,/usr/lib/x86_64-linux-gnu/libva-x11.so.2>,\n",
       " Library<libva-drm.so.2,/usr/lib/x86_64-linux-gnu/libva-drm.so.2>,\n",
       " Library<libltdl.so.7,/usr/lib/x86_64-linux-gnu/libltdl.so.7>,\n",
       " Library<libexif.so.12,/usr/lib/x86_64-linux-gnu/libexif.so.12>,\n",
       " Library<libgdcmIOD.so.2.8,/usr/lib/x86_64-linux-gnu/libgdcmIOD.so.2.8>,\n",
       " Library<libgdcmDICT.so.2.8,/usr/lib/x86_64-linux-gnu/libgdcmDICT.so.2.8>,\n",
       " Library<libgdcmjpeg8.so.2.8,/usr/lib/x86_64-linux-gnu/libgdcmjpeg8.so.2.8>,\n",
       " Library<libgdcmjpeg12.so.2.8,/usr/lib/x86_64-linux-gnu/libgdcmjpeg12.so.2.8>,\n",
       " Library<libgdcmjpeg16.so.2.8,/usr/lib/x86_64-linux-gnu/libgdcmjpeg16.so.2.8>,\n",
       " Library<libCharLS.so.1,/usr/lib/x86_64-linux-gnu/libCharLS.so.1>,\n",
       " Library<libuuid.so.1,/lib/x86_64-linux-gnu/libuuid.so.1>,\n",
       " Library<libjson-c.so.3,/lib/x86_64-linux-gnu/libjson-c.so.3>,\n",
       " Library<libgdcmCommon.so.2.8,/usr/lib/x86_64-linux-gnu/libgdcmCommon.so.2.8>,\n",
       " Library<libjbig.so.0,/usr/lib/x86_64-linux-gnu/libjbig.so.0>,\n",
       " Library<libIex-2_2.so.12,/usr/lib/x86_64-linux-gnu/libIex-2_2.so.12>,\n",
       " Library<libIlmThread-2_2.so.12,/usr/lib/x86_64-linux-gnu/libIlmThread-2_2.so.12>,\n",
       " Library<libarmadillo.so.8,/usr/lib/libarmadillo.so.8>,\n",
       " Library<libproj.so.12,/usr/lib/x86_64-linux-gnu/libproj.so.12>,\n",
       " Library<libpoppler.so.73,/usr/lib/x86_64-linux-gnu/libpoppler.so.73>,\n",
       " Library<libfreexl.so.1,/usr/lib/x86_64-linux-gnu/libfreexl.so.1>,\n",
       " Library<libqhull.so.7,/usr/lib/x86_64-linux-gnu/libqhull.so.7>,\n",
       " Library<libgeos_c.so.1,/usr/lib/x86_64-linux-gnu/libgeos_c.so.1>,\n",
       " Library<libepsilon.so.1,/usr/lib/x86_64-linux-gnu/libepsilon.so.1>,\n",
       " Library<libodbc.so.2,/usr/lib/x86_64-linux-gnu/libodbc.so.2>,\n",
       " Library<libodbcinst.so.2,/usr/lib/x86_64-linux-gnu/libodbcinst.so.2>,\n",
       " Library<libkmlbase.so.1,/usr/lib/x86_64-linux-gnu/libkmlbase.so.1>,\n",
       " Library<libkmldom.so.1,/usr/lib/x86_64-linux-gnu/libkmldom.so.1>,\n",
       " Library<libkmlengine.so.1,/usr/lib/x86_64-linux-gnu/libkmlengine.so.1>,\n",
       " Library<libexpat.so.1,/lib/x86_64-linux-gnu/libexpat.so.1>,\n",
       " Library<libxerces-c-3.2.so,/usr/lib/x86_64-linux-gnu/libxerces-c-3.2.so>,\n",
       " Library<libnetcdf.so.13,/usr/lib/x86_64-linux-gnu/libnetcdf.so.13>,\n",
       " Library<libhdf5_serial.so.100,/usr/lib/x86_64-linux-gnu/libhdf5_serial.so.100>,\n",
       " Library<libmfhdfalt.so.0,/usr/lib/libmfhdfalt.so.0>,\n",
       " Library<libdfalt.so.0,/usr/lib/libdfalt.so.0>,\n",
       " Library<libogdi.so.3.2,/usr/lib/libogdi.so.3.2>,\n",
       " Library<libgif.so.7,/usr/lib/x86_64-linux-gnu/libgif.so.7>,\n",
       " Library<libgeotiff.so.2,/usr/lib/x86_64-linux-gnu/libgeotiff.so.2>,\n",
       " Library<libpq.so.5,/usr/lib/x86_64-linux-gnu/libpq.so.5>,\n",
       " Library<libdapclient.so.6,/usr/lib/x86_64-linux-gnu/libdapclient.so.6>,\n",
       " Library<libdap.so.25,/usr/lib/x86_64-linux-gnu/libdap.so.25>,\n",
       " Library<libspatialite.so.7,/usr/lib/x86_64-linux-gnu/libspatialite.so.7>,\n",
       " Library<libcurl-gnutls.so.4,/usr/lib/x86_64-linux-gnu/libcurl-gnutls.so.4>,\n",
       " Library<libfyba.so.0,/usr/lib/x86_64-linux-gnu/libfyba.so.0>,\n",
       " Library<libmysqlclient.so.20,/usr/lib/x86_64-linux-gnu/libmysqlclient.so.20>,\n",
       " Library<libdbus-1.so.3,/lib/x86_64-linux-gnu/libdbus-1.so.3>,\n",
       " Library<libatspi.so.0,/usr/lib/x86_64-linux-gnu/libatspi.so.0>,\n",
       " Library<libharfbuzz.so.0,/usr/lib/x86_64-linux-gnu/libharfbuzz.so.0>,\n",
       " Library<libthai.so.0,/usr/lib/x86_64-linux-gnu/libthai.so.0>,\n",
       " Library<libselinux.so.1,/lib/x86_64-linux-gnu/libselinux.so.1>,\n",
       " Library<libresolv.so.2,/lib/x86_64-linux-gnu/libresolv.so.2>,\n",
       " Library<libmount.so.1,/lib/x86_64-linux-gnu/libmount.so.1>,\n",
       " Library<libXau.so.6,/usr/lib/x86_64-linux-gnu/libXau.so.6>,\n",
       " Library<libXdmcp.so.6,/usr/lib/x86_64-linux-gnu/libXdmcp.so.6>,\n",
       " Library<libudev.so.1,/lib/x86_64-linux-gnu/libudev.so.1>,\n",
       " Library<libsoxr.so.0,/usr/lib/x86_64-linux-gnu/libsoxr.so.0>,\n",
       " Library<libnuma.so.1,/usr/lib/x86_64-linux-gnu/libnuma.so.1>,\n",
       " Library<libogg.so.0,/usr/lib/x86_64-linux-gnu/libogg.so.0>,\n",
       " Library<libcroco-0.6.so.3,/usr/lib/x86_64-linux-gnu/libcroco-0.6.so.3>,\n",
       " Library<libgcrypt.so.20,/lib/x86_64-linux-gnu/libgcrypt.so.20>,\n",
       " Library<libgssapi_krb5.so.2,/usr/lib/x86_64-linux-gnu/libgssapi_krb5.so.2>,\n",
       " Library<libmpg123.so.0,/usr/lib/x86_64-linux-gnu/libmpg123.so.0>,\n",
       " Library<libvorbisfile.so.3,/usr/lib/x86_64-linux-gnu/libvorbisfile.so.3>,\n",
       " Library<libp11-kit.so.0,/usr/lib/x86_64-linux-gnu/libp11-kit.so.0>,\n",
       " Library<libidn2.so.0,/usr/lib/x86_64-linux-gnu/libidn2.so.0>,\n",
       " Library<libunistring.so.2,/usr/lib/x86_64-linux-gnu/libunistring.so.2>,\n",
       " Library<libtasn1.so.6,/usr/lib/x86_64-linux-gnu/libtasn1.so.6>,\n",
       " Library<libnettle.so.6,/usr/lib/x86_64-linux-gnu/libnettle.so.6>,\n",
       " Library<libhogweed.so.4,/usr/lib/x86_64-linux-gnu/libhogweed.so.4>,\n",
       " Library<libgmp.so.10,/usr/lib/x86_64-linux-gnu/libgmp.so.10>,\n",
       " Library<libicuuc.so.60,/usr/lib/x86_64-linux-gnu/libicuuc.so.60>,\n",
       " Library<libcrypto.so.1.1,/usr/lib/x86_64-linux-gnu/libcrypto.so.1.1>,\n",
       " Library<libblas.so.3,/usr/lib/x86_64-linux-gnu/libblas.so.3>,\n",
       " Library<liblapack.so.3,/usr/lib/x86_64-linux-gnu/liblapack.so.3>,\n",
       " Library<libarpack.so.2,/usr/lib/x86_64-linux-gnu/libarpack.so.2>,\n",
       " Library<libsuperlu.so.5,/usr/lib/x86_64-linux-gnu/libsuperlu.so.5>,\n",
       " Library<libnss3.so,/usr/lib/x86_64-linux-gnu/libnss3.so>,\n",
       " Library<libsmime3.so,/usr/lib/x86_64-linux-gnu/libsmime3.so>,\n",
       " Library<libnspr4.so,/usr/lib/x86_64-linux-gnu/libnspr4.so>,\n",
       " Library<liblcms2.so.2,/usr/lib/x86_64-linux-gnu/liblcms2.so.2>,\n",
       " Library<libgeos-3.6.2.so,/usr/lib/x86_64-linux-gnu/libgeos-3.6.2.so>,\n",
       " Library<libminizip.so.1,/usr/lib/x86_64-linux-gnu/libminizip.so.1>,\n",
       " Library<liburiparser.so.1,/usr/lib/x86_64-linux-gnu/liburiparser.so.1>,\n",
       " Library<libhdf5_serial_hl.so.100,/usr/lib/x86_64-linux-gnu/libhdf5_serial_hl.so.100>,\n",
       " Library<libsz.so.2,/usr/lib/x86_64-linux-gnu/libsz.so.2>,\n",
       " Library<libssl.so.1.1,/usr/lib/x86_64-linux-gnu/libssl.so.1.1>,\n",
       " Library<libldap_r-2.4.so.2,/usr/lib/x86_64-linux-gnu/libldap_r-2.4.so.2>,\n",
       " Library<libsqlite3.so.0,/usr/lib/x86_64-linux-gnu/libsqlite3.so.0>,\n",
       " Library<libnghttp2.so.14,/usr/lib/x86_64-linux-gnu/libnghttp2.so.14>,\n",
       " Library<librtmp.so.1,/usr/lib/x86_64-linux-gnu/librtmp.so.1>,\n",
       " Library<libpsl.so.5,/usr/lib/x86_64-linux-gnu/libpsl.so.5>,\n",
       " Library<liblber-2.4.so.2,/usr/lib/x86_64-linux-gnu/liblber-2.4.so.2>,\n",
       " Library<libfyut.so.0,/usr/lib/x86_64-linux-gnu/libfyut.so.0>,\n",
       " Library<libfygm.so.0,/usr/lib/x86_64-linux-gnu/libfygm.so.0>,\n",
       " Library<libsystemd.so.0,/lib/x86_64-linux-gnu/libsystemd.so.0>,\n",
       " Library<libgraphite2.so.3,/usr/lib/x86_64-linux-gnu/libgraphite2.so.3>,\n",
       " Library<libdatrie.so.1,/usr/lib/x86_64-linux-gnu/libdatrie.so.1>,\n",
       " Library<libblkid.so.1,/lib/x86_64-linux-gnu/libblkid.so.1>,\n",
       " Library<libbsd.so.0,/lib/x86_64-linux-gnu/libbsd.so.0>,\n",
       " Library<libgomp.so.1,/usr/lib/x86_64-linux-gnu/libgomp.so.1>,\n",
       " Library<libgpg-error.so.0,/lib/x86_64-linux-gnu/libgpg-error.so.0>,\n",
       " Library<libkrb5.so.3,/usr/lib/x86_64-linux-gnu/libkrb5.so.3>,\n",
       " Library<libk5crypto.so.3,/usr/lib/x86_64-linux-gnu/libk5crypto.so.3>,\n",
       " Library<libcom_err.so.2,/lib/x86_64-linux-gnu/libcom_err.so.2>,\n",
       " Library<libkrb5support.so.0,/usr/lib/x86_64-linux-gnu/libkrb5support.so.0>,\n",
       " Library<libicudata.so.60,/usr/lib/x86_64-linux-gnu/libicudata.so.60>,\n",
       " Library<libgfortran.so.4,/usr/lib/x86_64-linux-gnu/libgfortran.so.4>,\n",
       " Library<libnssutil3.so,/usr/lib/x86_64-linux-gnu/libnssutil3.so>,\n",
       " Library<libplc4.so,/usr/lib/x86_64-linux-gnu/libplc4.so>,\n",
       " Library<libplds4.so,/usr/lib/x86_64-linux-gnu/libplds4.so>,\n",
       " Library<libaec.so.0,/usr/lib/x86_64-linux-gnu/libaec.so.0>,\n",
       " Library<libsasl2.so.2,/usr/lib/x86_64-linux-gnu/libsasl2.so.2>,\n",
       " Library<libgssapi.so.3,/usr/lib/x86_64-linux-gnu/libgssapi.so.3>,\n",
       " Library<liblz4.so.1,/usr/lib/x86_64-linux-gnu/liblz4.so.1>,\n",
       " Library<libkeyutils.so.1,/lib/x86_64-linux-gnu/libkeyutils.so.1>,\n",
       " Library<libquadmath.so.0,/usr/lib/x86_64-linux-gnu/libquadmath.so.0>,\n",
       " Library<libheimntlm.so.0,/usr/lib/x86_64-linux-gnu/libheimntlm.so.0>,\n",
       " Library<libkrb5.so.26,/usr/lib/x86_64-linux-gnu/libkrb5.so.26>,\n",
       " Library<libasn1.so.8,/usr/lib/x86_64-linux-gnu/libasn1.so.8>,\n",
       " Library<libhcrypto.so.4,/usr/lib/x86_64-linux-gnu/libhcrypto.so.4>,\n",
       " Library<libroken.so.18,/usr/lib/x86_64-linux-gnu/libroken.so.18>,\n",
       " Library<libwind.so.0,/usr/lib/x86_64-linux-gnu/libwind.so.0>,\n",
       " Library<libheimbase.so.1,/usr/lib/x86_64-linux-gnu/libheimbase.so.1>,\n",
       " Library<libhx509.so.5,/usr/lib/x86_64-linux-gnu/libhx509.so.5>,\n",
       " Library<libcrypt.so.1,/lib/x86_64-linux-gnu/libcrypt.so.1>]"
      ]
     },
     "execution_count": 29,
     "metadata": {},
     "output_type": "execute_result"
    }
   ],
   "source": [
    "dep"
   ]
  },
  {
   "cell_type": "code",
   "execution_count": null,
   "metadata": {},
   "outputs": [],
   "source": []
  }
 ],
 "metadata": {
  "kernelspec": {
   "display_name": "Python 3",
   "language": "python",
   "name": "python3"
  },
  "language_info": {
   "codemirror_mode": {
    "name": "ipython",
    "version": 3
   },
   "file_extension": ".py",
   "mimetype": "text/x-python",
   "name": "python",
   "nbconvert_exporter": "python",
   "pygments_lexer": "ipython3",
   "version": "3.6.5"
  }
 },
 "nbformat": 4,
 "nbformat_minor": 2
}
