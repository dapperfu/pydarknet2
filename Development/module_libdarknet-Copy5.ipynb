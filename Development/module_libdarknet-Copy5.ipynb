{
 "cells": [
  {
   "cell_type": "code",
   "execution_count": 4,
   "metadata": {},
   "outputs": [
    {
     "name": "stdout",
     "output_type": "stream",
     "text": [
      "The autoreload extension is already loaded. To reload it, use:\n",
      "  %reload_ext autoreload\n"
     ]
    }
   ],
   "source": [
    "%load_ext autoreload\n",
    "%autoreload 2\n",
    "from pydarknet import Libdarknet"
   ]
  },
  {
   "cell_type": "code",
   "execution_count": 5,
   "metadata": {},
   "outputs": [],
   "source": [
    "import ctypes\n",
    "import os"
   ]
  },
  {
   "cell_type": "code",
   "execution_count": 6,
   "metadata": {},
   "outputs": [],
   "source": [
    "self = Libdarknet()"
   ]
  },
  {
   "cell_type": "code",
   "execution_count": 7,
   "metadata": {},
   "outputs": [
    {
     "data": {
      "text/plain": [
       "<pydarknet.libdarknet.Libdarknet at 0x7fea6c899fd0>"
      ]
     },
     "execution_count": 7,
     "metadata": {},
     "output_type": "execute_result"
    }
   ],
   "source": [
    "self"
   ]
  },
  {
   "cell_type": "code",
   "execution_count": 10,
   "metadata": {},
   "outputs": [
    {
     "data": {
      "text/plain": [
       "True"
      ]
     },
     "execution_count": 10,
     "metadata": {},
     "output_type": "execute_result"
    }
   ],
   "source": [
    "self.exists"
   ]
  },
  {
   "cell_type": "code",
   "execution_count": 11,
   "metadata": {},
   "outputs": [
    {
     "data": {
      "text/plain": [
       "<CDLL '/mnt/ubuntu1604_2/home/jed/.darknet/libdarknet.so', handle 2079380 at 0x7fea6c908748>"
      ]
     },
     "execution_count": 11,
     "metadata": {},
     "output_type": "execute_result"
    }
   ],
   "source": [
    "self.lib"
   ]
  },
  {
   "cell_type": "code",
   "execution_count": 12,
   "metadata": {},
   "outputs": [],
   "source": [
    "lib = self.lib"
   ]
  },
  {
   "cell_type": "code",
   "execution_count": null,
   "metadata": {},
   "outputs": [],
   "source": [
    "class Detections(object):\n",
    "    def __init__(self, num, detections_ptr):\n",
    "        self.num = num\n",
    "        self.detections_ptr = detections_ptr\n",
    "\n",
    "    def __repr__(self):\n",
    "        return \"Detections<{}>\".format(self.num)\n",
    "\n",
    "    def __iter__(self):\n",
    "        self._idx = 0\n",
    "        return self\n",
    "\n",
    "    def __next__(self):\n",
    "        idx = self._idx\n",
    "        if self._idx >= self.num:\n",
    "            raise StopIteration\n",
    "        else:\n",
    "            self._idx += 1\n",
    "            return self.detections_ptr[idx]\n",
    "\n",
    "    def __getitem__(self, index):\n",
    "        return self.detections_ptr[index]"
   ]
  },
  {
   "cell_type": "code",
   "execution_count": 14,
   "metadata": {},
   "outputs": [],
   "source": [
    "# Relative files are **relative** to the darknet directory!\n",
    "metadata = self.get_metadata(\"cfg/coco.data\")\n",
    "network = self.load_network(\"cfg/yolov3.cfg\", \"weights/yolov3.weights\", 0)\n",
    "img = self.load_image_color(\"data/dog.jpg\")"
   ]
  },
  {
   "cell_type": "code",
   "execution_count": 16,
   "metadata": {},
   "outputs": [],
   "source": [
    "net_output = self.network_predict_image(network, img)"
   ]
  },
  {
   "cell_type": "code",
   "execution_count": 17,
   "metadata": {},
   "outputs": [
    {
     "data": {
      "text/plain": [
       "<pydarknet.libdarknet.structs.LP_c_float at 0x7fea6c041a60>"
      ]
     },
     "execution_count": 17,
     "metadata": {},
     "output_type": "execute_result"
    }
   ],
   "source": [
    "net_output"
   ]
  },
  {
   "cell_type": "code",
   "execution_count": 71,
   "metadata": {},
   "outputs": [
    {
     "name": "stdout",
     "output_type": "stream",
     "text": [
      "Detection<Box<561.5, 121.6, 214.3, 86.5>, 0.79>\n",
      "Detection<Box<580.8, 125.1, 207.9, 87.1>, 1.00>\n",
      "Detection<Box<342.8, 260.5, 470.4, 320.6>, 0.89>\n",
      "Detection<Box<382.5, 259.5, 422.5, 324.4>, 0.62>\n",
      "Detection<Box<317.7, 290.0, 450.0, 329.5>, 0.56>\n",
      "Detection<Box<344.4, 285.9, 490.3, 323.4>, 0.99>\n",
      "Detection<Box<376.8, 284.4, 431.9, 322.8>, 0.91>\n",
      "Detection<Box<416.0, 282.7, 301.3, 277.3>, 0.67>\n",
      "Detection<Box<411.7, 281.2, 364.8, 316.6>, 0.54>\n",
      "Detection<Box<219.3, 332.9, 178.0, 337.8>, 0.69>\n",
      "Detection<Box<347.2, 318.8, 464.9, 340.2>, 0.80>\n",
      "Detection<Box<224.3, 378.4, 178.8, 328.3>, 1.00>\n",
      "Detection<Box<222.7, 392.9, 177.9, 321.1>, 1.00>\n"
     ]
    }
   ],
   "source": [
    "num, detections_ptr = self.get_network_boxes(network, img)\n",
    "dets = Detections(num, detections_ptr)\n",
    "for det in dets:\n",
    "    print(det)"
   ]
  },
  {
   "cell_type": "code",
   "execution_count": 75,
   "metadata": {},
   "outputs": [],
   "source": [
    "nms=0.5"
   ]
  },
  {
   "cell_type": "code",
   "execution_count": 74,
   "metadata": {},
   "outputs": [
    {
     "name": "stdout",
     "output_type": "stream",
     "text": [
      "Detection<Box<224.3, 378.4, 178.8, 328.3>, 1.00>\n",
      "Detection<Box<580.8, 125.1, 207.9, 87.1>, 1.00>\n",
      "Detection<Box<344.4, 285.9, 490.3, 323.4>, 0.99>\n",
      "Detection<Box<222.7, 392.9, 177.9, 321.1>, 1.00>\n",
      "Detection<Box<219.3, 332.9, 178.0, 337.8>, 0.69>\n",
      "Detection<Box<561.5, 121.6, 214.3, 86.5>, 0.79>\n",
      "Detection<Box<376.8, 284.4, 431.9, 322.8>, 0.91>\n",
      "Detection<Box<342.8, 260.5, 470.4, 320.6>, 0.89>\n",
      "Detection<Box<347.2, 318.8, 464.9, 340.2>, 0.80>\n",
      "Detection<Box<382.5, 259.5, 422.5, 324.4>, 0.62>\n",
      "Detection<Box<416.0, 282.7, 301.3, 277.3>, 0.67>\n",
      "Detection<Box<317.7, 290.0, 450.0, 329.5>, 0.56>\n",
      "Detection<Box<411.7, 281.2, 364.8, 316.6>, 0.54>\n"
     ]
    }
   ],
   "source": [
    "self.do_nms_sort(detections_ptr, num, metadata.classes, nms);\n",
    "dets = Detections(num, detections_ptr)\n",
    "for det in dets:\n",
    "    print(det)"
   ]
  },
  {
   "cell_type": "code",
   "execution_count": 76,
   "metadata": {},
   "outputs": [
    {
     "ename": "TypeError",
     "evalue": "'Detections' object does not support indexing",
     "output_type": "error",
     "traceback": [
      "\u001b[0;31m---------------------------------------------------------------------------\u001b[0m",
      "\u001b[0;31mTypeError\u001b[0m                                 Traceback (most recent call last)",
      "\u001b[0;32m<ipython-input-76-bb0fd94c47bd>\u001b[0m in \u001b[0;36m<module>\u001b[0;34m()\u001b[0m\n\u001b[1;32m      2\u001b[0m \u001b[0;32mfor\u001b[0m \u001b[0mj\u001b[0m \u001b[0;32min\u001b[0m \u001b[0mrange\u001b[0m\u001b[0;34m(\u001b[0m\u001b[0mnum\u001b[0m\u001b[0;34m)\u001b[0m\u001b[0;34m:\u001b[0m\u001b[0;34m\u001b[0m\u001b[0m\n\u001b[1;32m      3\u001b[0m     \u001b[0;32mfor\u001b[0m \u001b[0mi\u001b[0m \u001b[0;32min\u001b[0m \u001b[0mrange\u001b[0m\u001b[0;34m(\u001b[0m\u001b[0mmetadata\u001b[0m\u001b[0;34m.\u001b[0m\u001b[0mclasses\u001b[0m\u001b[0;34m)\u001b[0m\u001b[0;34m:\u001b[0m\u001b[0;34m\u001b[0m\u001b[0m\n\u001b[0;32m----> 4\u001b[0;31m         \u001b[0;32mif\u001b[0m \u001b[0mdets\u001b[0m\u001b[0;34m[\u001b[0m\u001b[0mj\u001b[0m\u001b[0;34m]\u001b[0m\u001b[0;34m.\u001b[0m\u001b[0mprob\u001b[0m\u001b[0;34m[\u001b[0m\u001b[0mi\u001b[0m\u001b[0;34m]\u001b[0m \u001b[0;34m>\u001b[0m \u001b[0;36m0\u001b[0m\u001b[0;34m:\u001b[0m\u001b[0;34m\u001b[0m\u001b[0m\n\u001b[0m\u001b[1;32m      5\u001b[0m             \u001b[0mb\u001b[0m \u001b[0;34m=\u001b[0m \u001b[0mdets\u001b[0m\u001b[0;34m[\u001b[0m\u001b[0mj\u001b[0m\u001b[0;34m]\u001b[0m\u001b[0;34m.\u001b[0m\u001b[0mbbox\u001b[0m\u001b[0;34m\u001b[0m\u001b[0m\n\u001b[1;32m      6\u001b[0m             \u001b[0mres\u001b[0m\u001b[0;34m.\u001b[0m\u001b[0mappend\u001b[0m\u001b[0;34m(\u001b[0m\u001b[0;34m(\u001b[0m\u001b[0mmetadata\u001b[0m\u001b[0;34m.\u001b[0m\u001b[0mnames\u001b[0m\u001b[0;34m[\u001b[0m\u001b[0mi\u001b[0m\u001b[0;34m]\u001b[0m\u001b[0;34m,\u001b[0m \u001b[0mdets\u001b[0m\u001b[0;34m[\u001b[0m\u001b[0mj\u001b[0m\u001b[0;34m]\u001b[0m\u001b[0;34m.\u001b[0m\u001b[0mprob\u001b[0m\u001b[0;34m[\u001b[0m\u001b[0mi\u001b[0m\u001b[0;34m]\u001b[0m\u001b[0;34m,\u001b[0m \u001b[0;34m(\u001b[0m\u001b[0mb\u001b[0m\u001b[0;34m.\u001b[0m\u001b[0mx\u001b[0m\u001b[0;34m,\u001b[0m \u001b[0mb\u001b[0m\u001b[0;34m.\u001b[0m\u001b[0my\u001b[0m\u001b[0;34m,\u001b[0m \u001b[0mb\u001b[0m\u001b[0;34m.\u001b[0m\u001b[0mw\u001b[0m\u001b[0;34m,\u001b[0m \u001b[0mb\u001b[0m\u001b[0;34m.\u001b[0m\u001b[0mh\u001b[0m\u001b[0;34m)\u001b[0m\u001b[0;34m)\u001b[0m\u001b[0;34m)\u001b[0m\u001b[0;34m\u001b[0m\u001b[0m\n",
      "\u001b[0;31mTypeError\u001b[0m: 'Detections' object does not support indexing"
     ]
    }
   ],
   "source": [
    "res = []\n",
    "for j in range(num):\n",
    "    for i in range(metadata.classes):\n",
    "        if dets[j].prob[i] > 0:\n",
    "            b = dets[j].bbox\n",
    "            res.append((metadata.names[i], dets[j].prob[i], (b.x, b.y, b.w, b.h)))\n",
    "                    "
   ]
  },
  {
   "cell_type": "code",
   "execution_count": 78,
   "metadata": {},
   "outputs": [
    {
     "ename": "TypeError",
     "evalue": "'Detections' object does not support indexing",
     "output_type": "error",
     "traceback": [
      "\u001b[0;31m---------------------------------------------------------------------------\u001b[0m",
      "\u001b[0;31mTypeError\u001b[0m                                 Traceback (most recent call last)",
      "\u001b[0;32m<ipython-input-78-a7fccfef3eb0>\u001b[0m in \u001b[0;36m<module>\u001b[0;34m()\u001b[0m\n\u001b[0;32m----> 1\u001b[0;31m \u001b[0mdets\u001b[0m\u001b[0;34m[\u001b[0m\u001b[0;36m3\u001b[0m\u001b[0;34m]\u001b[0m\u001b[0;34m\u001b[0m\u001b[0m\n\u001b[0m",
      "\u001b[0;31mTypeError\u001b[0m: 'Detections' object does not support indexing"
     ]
    }
   ],
   "source": [
    "dets[3]"
   ]
  },
  {
   "cell_type": "code",
   "execution_count": null,
   "metadata": {},
   "outputs": [],
   "source": []
  }
 ],
 "metadata": {
  "kernelspec": {
   "display_name": "Python 3",
   "language": "python",
   "name": "python3"
  },
  "language_info": {
   "codemirror_mode": {
    "name": "ipython",
    "version": 3
   },
   "file_extension": ".py",
   "mimetype": "text/x-python",
   "name": "python",
   "nbconvert_exporter": "python",
   "pygments_lexer": "ipython3",
   "version": "3.6.5"
  }
 },
 "nbformat": 4,
 "nbformat_minor": 2
}
