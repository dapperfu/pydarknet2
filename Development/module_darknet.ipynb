{
 "cells": [
  {
   "cell_type": "code",
   "execution_count": 33,
   "metadata": {},
   "outputs": [
    {
     "name": "stdout",
     "output_type": "stream",
     "text": [
      "The autoreload extension is already loaded. To reload it, use:\n",
      "  %reload_ext autoreload\n"
     ]
    }
   ],
   "source": [
    "%load_ext autoreload\n",
    "%autoreload 2\n"
   ]
  },
  {
   "cell_type": "code",
   "execution_count": 34,
   "metadata": {},
   "outputs": [],
   "source": [
    "import os"
   ]
  },
  {
   "cell_type": "code",
   "execution_count": 35,
   "metadata": {},
   "outputs": [],
   "source": [
    "import pydarknet.darknet"
   ]
  },
  {
   "cell_type": "code",
   "execution_count": 36,
   "metadata": {},
   "outputs": [
    {
     "data": {
      "text/plain": [
       "Darknet<dir='True', bin='True'>"
      ]
     },
     "execution_count": 36,
     "metadata": {},
     "output_type": "execute_result"
    }
   ],
   "source": [
    "dn = pydarknet.darknet.Darknet()\n",
    "dn"
   ]
  },
  {
   "cell_type": "code",
   "execution_count": 37,
   "metadata": {},
   "outputs": [
    {
     "data": {
      "text/plain": [
       "'/mnt/ubuntu1604_2/home/jed/.darknet'"
      ]
     },
     "execution_count": 37,
     "metadata": {},
     "output_type": "execute_result"
    }
   ],
   "source": [
    "dn.root"
   ]
  },
  {
   "cell_type": "code",
   "execution_count": 38,
   "metadata": {},
   "outputs": [
    {
     "data": {
      "text/plain": [
       "True"
      ]
     },
     "execution_count": 38,
     "metadata": {},
     "output_type": "execute_result"
    }
   ],
   "source": [
    "os.path.exists(dn.root)"
   ]
  },
  {
   "cell_type": "code",
   "execution_count": 39,
   "metadata": {},
   "outputs": [
    {
     "data": {
      "text/plain": [
       "True"
      ]
     },
     "execution_count": 39,
     "metadata": {},
     "output_type": "execute_result"
    }
   ],
   "source": [
    "os.path.exists(dn.root)"
   ]
  },
  {
   "cell_type": "code",
   "execution_count": 40,
   "metadata": {},
   "outputs": [
    {
     "data": {
      "text/plain": [
       "True"
      ]
     },
     "execution_count": 40,
     "metadata": {},
     "output_type": "execute_result"
    }
   ],
   "source": [
    "dn.exists"
   ]
  },
  {
   "cell_type": "code",
   "execution_count": 41,
   "metadata": {},
   "outputs": [
    {
     "ename": "CloneException",
     "evalue": "/mnt/ubuntu1604_2/home/jed/.darknet already exists. Not forcing clone.",
     "output_type": "error",
     "traceback": [
      "\u001b[0;31m---------------------------------------------------------------------------\u001b[0m",
      "\u001b[0;31mCloneException\u001b[0m                            Traceback (most recent call last)",
      "\u001b[0;32m<ipython-input-41-b0919ceeedc7>\u001b[0m in \u001b[0;36m<module>\u001b[0;34m()\u001b[0m\n\u001b[0;32m----> 1\u001b[0;31m \u001b[0mdn\u001b[0m\u001b[0;34m.\u001b[0m\u001b[0mclone\u001b[0m\u001b[0;34m(\u001b[0m\u001b[0;34m)\u001b[0m\u001b[0;34m\u001b[0m\u001b[0m\n\u001b[0m",
      "\u001b[0;32m/projects/pydarknet/pydarknet/darknet/__init__.py\u001b[0m in \u001b[0;36mclone\u001b[0;34m(self, clone_url, force)\u001b[0m\n\u001b[1;32m    183\u001b[0m         \u001b[0;32mif\u001b[0m \u001b[0mos\u001b[0m\u001b[0;34m.\u001b[0m\u001b[0mpath\u001b[0m\u001b[0;34m.\u001b[0m\u001b[0misdir\u001b[0m\u001b[0;34m(\u001b[0m\u001b[0mself\u001b[0m\u001b[0;34m.\u001b[0m\u001b[0mroot\u001b[0m\u001b[0;34m)\u001b[0m \u001b[0;32mand\u001b[0m \u001b[0;32mnot\u001b[0m \u001b[0mforce\u001b[0m\u001b[0;34m:\u001b[0m\u001b[0;34m\u001b[0m\u001b[0m\n\u001b[1;32m    184\u001b[0m             raise CloneException(\n\u001b[0;32m--> 185\u001b[0;31m                 \u001b[0;34m\"{} already exists. Not forcing clone.\"\u001b[0m\u001b[0;34m.\u001b[0m\u001b[0mformat\u001b[0m\u001b[0;34m(\u001b[0m\u001b[0mself\u001b[0m\u001b[0;34m.\u001b[0m\u001b[0mroot\u001b[0m\u001b[0;34m)\u001b[0m\u001b[0;34m\u001b[0m\u001b[0m\n\u001b[0m\u001b[1;32m    186\u001b[0m             )\n\u001b[1;32m    187\u001b[0m \u001b[0;34m\u001b[0m\u001b[0m\n",
      "\u001b[0;31mCloneException\u001b[0m: /mnt/ubuntu1604_2/home/jed/.darknet already exists. Not forcing clone."
     ]
    }
   ],
   "source": [
    "dn.clone()"
   ]
  },
  {
   "cell_type": "code",
   "execution_count": 42,
   "metadata": {},
   "outputs": [
    {
     "data": {
      "text/plain": [
       "True"
      ]
     },
     "execution_count": 42,
     "metadata": {},
     "output_type": "execute_result"
    }
   ],
   "source": [
    "dn.exists"
   ]
  },
  {
   "cell_type": "code",
   "execution_count": 43,
   "metadata": {},
   "outputs": [
    {
     "ename": "BuildException",
     "evalue": "Executable exists and force flag not set",
     "output_type": "error",
     "traceback": [
      "\u001b[0;31m---------------------------------------------------------------------------\u001b[0m",
      "\u001b[0;31mBuildException\u001b[0m                            Traceback (most recent call last)",
      "\u001b[0;32m<ipython-input-43-39f219fab6cf>\u001b[0m in \u001b[0;36m<module>\u001b[0;34m()\u001b[0m\n\u001b[0;32m----> 1\u001b[0;31m \u001b[0mdn\u001b[0m\u001b[0;34m.\u001b[0m\u001b[0mbuild\u001b[0m\u001b[0;34m(\u001b[0m\u001b[0mopencv\u001b[0m\u001b[0;34m=\u001b[0m\u001b[0;32mTrue\u001b[0m\u001b[0;34m)\u001b[0m\u001b[0;34m\u001b[0m\u001b[0m\n\u001b[0m",
      "\u001b[0;32m/projects/pydarknet/pydarknet/darknet/__init__.py\u001b[0m in \u001b[0;36mwrapper\u001b[0;34m(self, *args, **kwargs)\u001b[0m\n\u001b[1;32m     54\u001b[0m         \u001b[0mos\u001b[0m\u001b[0;34m.\u001b[0m\u001b[0mchdir\u001b[0m\u001b[0;34m(\u001b[0m\u001b[0mself\u001b[0m\u001b[0;34m.\u001b[0m\u001b[0mroot\u001b[0m\u001b[0;34m)\u001b[0m\u001b[0;34m\u001b[0m\u001b[0m\n\u001b[1;32m     55\u001b[0m         \u001b[0;31m# Execute the function that got wrapped.\u001b[0m\u001b[0;34m\u001b[0m\u001b[0;34m\u001b[0m\u001b[0m\n\u001b[0;32m---> 56\u001b[0;31m         \u001b[0mret\u001b[0m \u001b[0;34m=\u001b[0m \u001b[0mf\u001b[0m\u001b[0;34m(\u001b[0m\u001b[0mself\u001b[0m\u001b[0;34m,\u001b[0m \u001b[0;34m*\u001b[0m\u001b[0margs\u001b[0m\u001b[0;34m,\u001b[0m \u001b[0;34m**\u001b[0m\u001b[0mkwargs\u001b[0m\u001b[0;34m)\u001b[0m\u001b[0;34m\u001b[0m\u001b[0m\n\u001b[0m\u001b[1;32m     57\u001b[0m         \u001b[0;31m# Change back to the 'last' working directory.\u001b[0m\u001b[0;34m\u001b[0m\u001b[0;34m\u001b[0m\u001b[0m\n\u001b[1;32m     58\u001b[0m         \u001b[0mos\u001b[0m\u001b[0;34m.\u001b[0m\u001b[0mchdir\u001b[0m\u001b[0;34m(\u001b[0m\u001b[0mlwd\u001b[0m\u001b[0;34m)\u001b[0m\u001b[0;34m\u001b[0m\u001b[0m\n",
      "\u001b[0;32m/projects/pydarknet/pydarknet/darknet/__init__.py\u001b[0m in \u001b[0;36mbuild\u001b[0;34m(self, force, **kwargs)\u001b[0m\n\u001b[1;32m    142\u001b[0m         \u001b[0;34m\"\"\"Build darknet.\"\"\"\u001b[0m\u001b[0;34m\u001b[0m\u001b[0m\n\u001b[1;32m    143\u001b[0m         \u001b[0;32mif\u001b[0m \u001b[0mos\u001b[0m\u001b[0;34m.\u001b[0m\u001b[0mpath\u001b[0m\u001b[0;34m.\u001b[0m\u001b[0mexists\u001b[0m\u001b[0;34m(\u001b[0m\u001b[0mself\u001b[0m\u001b[0;34m.\u001b[0m\u001b[0mexe\u001b[0m\u001b[0;34m)\u001b[0m \u001b[0;32mand\u001b[0m \u001b[0;32mnot\u001b[0m \u001b[0mforce\u001b[0m\u001b[0;34m:\u001b[0m\u001b[0;34m\u001b[0m\u001b[0m\n\u001b[0;32m--> 144\u001b[0;31m             \u001b[0;32mraise\u001b[0m \u001b[0mBuildException\u001b[0m\u001b[0;34m(\u001b[0m\u001b[0;34m\"Executable exists and force flag not set\"\u001b[0m\u001b[0;34m)\u001b[0m\u001b[0;34m\u001b[0m\u001b[0m\n\u001b[0m\u001b[1;32m    145\u001b[0m         \u001b[0mout\u001b[0m \u001b[0;34m=\u001b[0m \u001b[0msubprocess\u001b[0m\u001b[0;34m.\u001b[0m\u001b[0mcheck_output\u001b[0m\u001b[0;34m(\u001b[0m\u001b[0;34m[\u001b[0m\u001b[0;34m\"make\"\u001b[0m\u001b[0;34m,\u001b[0m \u001b[0;34m\"clean\"\u001b[0m\u001b[0;34m]\u001b[0m\u001b[0;34m)\u001b[0m\u001b[0;34m\u001b[0m\u001b[0m\n\u001b[1;32m    146\u001b[0m \u001b[0;34m\u001b[0m\u001b[0m\n",
      "\u001b[0;31mBuildException\u001b[0m: Executable exists and force flag not set"
     ]
    }
   ],
   "source": [
    "dn.build(opencv=True)"
   ]
  },
  {
   "cell_type": "code",
   "execution_count": 44,
   "metadata": {},
   "outputs": [
    {
     "data": {
      "text/plain": [
       "['/mnt/ubuntu1604_2/home/jed/.darknet/weights/yolov3.weights']"
      ]
     },
     "execution_count": 44,
     "metadata": {},
     "output_type": "execute_result"
    }
   ],
   "source": [
    "dn.weights"
   ]
  },
  {
   "cell_type": "code",
   "execution_count": 45,
   "metadata": {},
   "outputs": [
    {
     "data": {
      "text/plain": [
       "['/mnt/ubuntu1604_2/home/jed/.darknet/cfg/coco.data',\n",
       " '/mnt/ubuntu1604_2/home/jed/.darknet/cfg/combine9k.data',\n",
       " '/mnt/ubuntu1604_2/home/jed/.darknet/cfg/imagenet1k.data',\n",
       " '/mnt/ubuntu1604_2/home/jed/.darknet/cfg/voc.data']"
      ]
     },
     "execution_count": 45,
     "metadata": {},
     "output_type": "execute_result"
    }
   ],
   "source": [
    "dn.datas"
   ]
  },
  {
   "cell_type": "code",
   "execution_count": 46,
   "metadata": {},
   "outputs": [
    {
     "data": {
      "text/plain": [
       "['/mnt/ubuntu1604_2/home/jed/.darknet/cfg/imagenet9k.hierarchy.dataset',\n",
       " '/mnt/ubuntu1604_2/home/jed/.darknet/cfg/imagenet22k.dataset']"
      ]
     },
     "execution_count": 46,
     "metadata": {},
     "output_type": "execute_result"
    }
   ],
   "source": [
    "dn.datasets"
   ]
  },
  {
   "cell_type": "code",
   "execution_count": 47,
   "metadata": {},
   "outputs": [
    {
     "data": {
      "text/plain": [
       "['/mnt/ubuntu1604_2/home/jed/.darknet/cfg/jnet-conv.cfg',\n",
       " '/mnt/ubuntu1604_2/home/jed/.darknet/cfg/yolov3-voc.cfg',\n",
       " '/mnt/ubuntu1604_2/home/jed/.darknet/cfg/resnet34.cfg',\n",
       " '/mnt/ubuntu1604_2/home/jed/.darknet/cfg/yolov1-tiny.cfg',\n",
       " '/mnt/ubuntu1604_2/home/jed/.darknet/cfg/alexnet.cfg',\n",
       " '/mnt/ubuntu1604_2/home/jed/.darknet/cfg/yolov2-tiny-voc.cfg',\n",
       " '/mnt/ubuntu1604_2/home/jed/.darknet/cfg/yolov3-tiny.cfg',\n",
       " '/mnt/ubuntu1604_2/home/jed/.darknet/cfg/go.test.cfg',\n",
       " '/mnt/ubuntu1604_2/home/jed/.darknet/cfg/resnet50.cfg',\n",
       " '/mnt/ubuntu1604_2/home/jed/.darknet/cfg/vgg-conv.cfg',\n",
       " '/mnt/ubuntu1604_2/home/jed/.darknet/cfg/darknet53.cfg',\n",
       " '/mnt/ubuntu1604_2/home/jed/.darknet/cfg/darknet19.cfg',\n",
       " '/mnt/ubuntu1604_2/home/jed/.darknet/cfg/yolov3-spp.cfg',\n",
       " '/mnt/ubuntu1604_2/home/jed/.darknet/cfg/t1.test.cfg',\n",
       " '/mnt/ubuntu1604_2/home/jed/.darknet/cfg/yolov2-tiny.cfg',\n",
       " '/mnt/ubuntu1604_2/home/jed/.darknet/cfg/resnet101.cfg',\n",
       " '/mnt/ubuntu1604_2/home/jed/.darknet/cfg/yolov2-voc.cfg',\n",
       " '/mnt/ubuntu1604_2/home/jed/.darknet/cfg/resnext50.cfg',\n",
       " '/mnt/ubuntu1604_2/home/jed/.darknet/cfg/yolov1.cfg',\n",
       " '/mnt/ubuntu1604_2/home/jed/.darknet/cfg/darknet9000.cfg',\n",
       " '/mnt/ubuntu1604_2/home/jed/.darknet/cfg/rnn.cfg',\n",
       " '/mnt/ubuntu1604_2/home/jed/.darknet/cfg/extraction.cfg',\n",
       " '/mnt/ubuntu1604_2/home/jed/.darknet/cfg/resnet18.cfg',\n",
       " '/mnt/ubuntu1604_2/home/jed/.darknet/cfg/yolov2.cfg',\n",
       " '/mnt/ubuntu1604_2/home/jed/.darknet/cfg/darknet53_448.cfg',\n",
       " '/mnt/ubuntu1604_2/home/jed/.darknet/cfg/yolov3.cfg',\n",
       " '/mnt/ubuntu1604_2/home/jed/.darknet/cfg/writing.cfg',\n",
       " '/mnt/ubuntu1604_2/home/jed/.darknet/cfg/resnet152.cfg',\n",
       " '/mnt/ubuntu1604_2/home/jed/.darknet/cfg/extraction.conv.cfg',\n",
       " '/mnt/ubuntu1604_2/home/jed/.darknet/cfg/gru.cfg',\n",
       " '/mnt/ubuntu1604_2/home/jed/.darknet/cfg/vgg-16.cfg',\n",
       " '/mnt/ubuntu1604_2/home/jed/.darknet/cfg/rnn.train.cfg',\n",
       " '/mnt/ubuntu1604_2/home/jed/.darknet/cfg/darknet.cfg',\n",
       " '/mnt/ubuntu1604_2/home/jed/.darknet/cfg/strided.cfg',\n",
       " '/mnt/ubuntu1604_2/home/jed/.darknet/cfg/extraction22k.cfg',\n",
       " '/mnt/ubuntu1604_2/home/jed/.darknet/cfg/cifar.cfg',\n",
       " '/mnt/ubuntu1604_2/home/jed/.darknet/cfg/cifar.test.cfg',\n",
       " '/mnt/ubuntu1604_2/home/jed/.darknet/cfg/resnext101-32x4d.cfg',\n",
       " '/mnt/ubuntu1604_2/home/jed/.darknet/cfg/go.cfg',\n",
       " '/mnt/ubuntu1604_2/home/jed/.darknet/cfg/tiny.cfg',\n",
       " '/mnt/ubuntu1604_2/home/jed/.darknet/cfg/resnext152-32x4d.cfg',\n",
       " '/mnt/ubuntu1604_2/home/jed/.darknet/cfg/yolo9000.cfg',\n",
       " '/mnt/ubuntu1604_2/home/jed/.darknet/cfg/darknet19_448.cfg',\n",
       " '/mnt/ubuntu1604_2/home/jed/.darknet/cfg/densenet201.cfg']"
      ]
     },
     "execution_count": 47,
     "metadata": {},
     "output_type": "execute_result"
    }
   ],
   "source": [
    "dn.cfgs"
   ]
  },
  {
   "cell_type": "code",
   "execution_count": 66,
   "metadata": {},
   "outputs": [],
   "source": [
    "class Incantation(object):\n",
    "    \"\"\"Incantation pair.\"\"\"\n",
    "    def __init__(self, weights, cfg=None, darknet=None):\n",
    "        self.weights=os.path.abspath(weights)\n",
    "        assert os.path.exists(weights)\n",
    "        \n",
    "        self.name=os.path.splitext(os.path.basename(self.weights))[0]\n",
    "        self.root=os.path.abspath(os.path.join(os.path.dirname(yolov3), \"..\"))\n",
    "        if cfg is None:\n",
    "            self.cfg = os.path.join(self.root, \"cfg\", \"{}.cfg\".format(self.name))\n",
    "        else:\n",
    "            self.cfg = cfg\n",
    "            \n",
    "        self.darknet=darknet\n",
    "        \n",
    "    def __repr__(self):\n",
    "        return \"Incantation<spell={}, {}>\".format(self.name, self.darknet)\n",
    "    \n",
    "    def cast(self, image):\n",
    "        image = os.path.abspath(image)\n",
    "        assert os.path.exists(image)\n",
    "        \n",
    "        return self.darknet.run(\"detect\", self.cfg, self.weights, image)\n",
    "        \n"
   ]
  },
  {
   "cell_type": "code",
   "execution_count": 67,
   "metadata": {},
   "outputs": [
    {
     "data": {
      "text/plain": [
       "'/mnt/ubuntu1604_2/home/jed/.darknet/weights/yolov3.weights'"
      ]
     },
     "execution_count": 67,
     "metadata": {},
     "output_type": "execute_result"
    }
   ],
   "source": [
    "yolov3=dn.weights[0]\n",
    "yolov3"
   ]
  },
  {
   "cell_type": "code",
   "execution_count": 68,
   "metadata": {},
   "outputs": [
    {
     "data": {
      "text/plain": [
       "'yolov3'"
      ]
     },
     "execution_count": 68,
     "metadata": {},
     "output_type": "execute_result"
    }
   ],
   "source": [
    "os.path.splitext(os.path.basename(yolov3))[0]"
   ]
  },
  {
   "cell_type": "code",
   "execution_count": 69,
   "metadata": {},
   "outputs": [],
   "source": [
    "self=yolov3"
   ]
  },
  {
   "cell_type": "code",
   "execution_count": 70,
   "metadata": {},
   "outputs": [],
   "source": [
    "i=Incantation(weights=dn.weights[0], darknet=dn)"
   ]
  },
  {
   "cell_type": "code",
   "execution_count": 71,
   "metadata": {},
   "outputs": [
    {
     "data": {
      "text/plain": [
       "Incantation<spell=yolov3, Darknet<dir='True', bin='True'>>"
      ]
     },
     "execution_count": 71,
     "metadata": {},
     "output_type": "execute_result"
    }
   ],
   "source": [
    "i"
   ]
  },
  {
   "cell_type": "code",
   "execution_count": 72,
   "metadata": {
    "scrolled": true
   },
   "outputs": [
    {
     "data": {
      "text/plain": [
       "(32.5359628200531,\n",
       " b'/mnt/ubuntu1604_2/home/jed/.darknet/data/dog.jpg: Predicted in 19.977961 seconds.\\ndog: 100%\\ntruck: 92%\\nbicycle: 99%\\n')"
      ]
     },
     "execution_count": 72,
     "metadata": {},
     "output_type": "execute_result"
    }
   ],
   "source": [
    "dn.run(\"detect\", i.cfg, i.weights, \"/mnt/ubuntu1604_2/home/jed/.darknet/data/dog.jpg\")"
   ]
  },
  {
   "cell_type": "code",
   "execution_count": 73,
   "metadata": {},
   "outputs": [
    {
     "data": {
      "text/plain": [
       "'/mnt/ubuntu1604_2/home/jed/.darknet/darknet'"
      ]
     },
     "execution_count": 73,
     "metadata": {},
     "output_type": "execute_result"
    }
   ],
   "source": [
    "dn.exe"
   ]
  },
  {
   "cell_type": "code",
   "execution_count": 74,
   "metadata": {},
   "outputs": [
    {
     "data": {
      "text/plain": [
       "'/mnt/ubuntu1604_2/home/jed/.darknet/darknet detect /mnt/ubuntu1604_2/home/jed/.darknet/cfg/yolov3.cfg /mnt/ubuntu1604_2/home/jed/.darknet/weights/yolov3.weights /mnt/ubuntu1604_2/home/jed/.darknet/data/dog.jpg'"
      ]
     },
     "execution_count": 74,
     "metadata": {},
     "output_type": "execute_result"
    }
   ],
   "source": [
    "\" \".join(['/mnt/ubuntu1604_2/home/jed/.darknet/darknet', 'detect', '/mnt/ubuntu1604_2/home/jed/.darknet/cfg/yolov3.cfg', '/mnt/ubuntu1604_2/home/jed/.darknet/weights/yolov3.weights', '/mnt/ubuntu1604_2/home/jed/.darknet/data/dog.jpg'])"
   ]
  },
  {
   "cell_type": "code",
   "execution_count": 75,
   "metadata": {},
   "outputs": [
    {
     "data": {
      "text/plain": [
       "(29.720038652420044,\n",
       " b'/mnt/ubuntu1604_2/home/jed/.darknet/data/dog.jpg: Predicted in 19.693956 seconds.\\ndog: 100%\\ntruck: 92%\\nbicycle: 99%\\n')"
      ]
     },
     "execution_count": 75,
     "metadata": {},
     "output_type": "execute_result"
    }
   ],
   "source": [
    "i.cast(\"/mnt/ubuntu1604_2/home/jed/.darknet/data/dog.jpg\")"
   ]
  },
  {
   "cell_type": "code",
   "execution_count": null,
   "metadata": {},
   "outputs": [],
   "source": [
    "i.ca"
   ]
  }
 ],
 "metadata": {
  "kernelspec": {
   "display_name": "Python 3",
   "language": "python",
   "name": "python3"
  },
  "language_info": {
   "codemirror_mode": {
    "name": "ipython",
    "version": 3
   },
   "file_extension": ".py",
   "mimetype": "text/x-python",
   "name": "python",
   "nbconvert_exporter": "python",
   "pygments_lexer": "ipython3",
   "version": "3.6.5"
  }
 },
 "nbformat": 4,
 "nbformat_minor": 2
}
