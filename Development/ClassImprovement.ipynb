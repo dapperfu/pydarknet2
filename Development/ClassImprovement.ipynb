{
 "cells": [
  {
   "cell_type": "code",
   "execution_count": null,
   "metadata": {},
   "outputs": [],
   "source": [
    "import pydarknet2\n",
    "\n",
    "classifier = pydarknet2.Classifier(\"cfg/coco.data\", \"cfg/yolov3.cfg\", \"weights/yolov3.weights\")\n",
    "classifier\n",
    "\n",
    "classifier.load()"
   ]
  },
  {
   "cell_type": "code",
   "execution_count": 1,
   "metadata": {},
   "outputs": [
    {
     "name": "stdout",
     "output_type": "stream",
     "text": [
      "Entering!\n",
      "0: None\n",
      "1: None\n",
      "2: None\n",
      "Bye!\n"
     ]
    }
   ],
   "source": [
    "import pydarknet2\n",
    "with pydarknet2.Classifier(\"cfg/coco.data\", \"cfg/yolov3.cfg\", \"weights/yolov3.weights\") as classifier:\n",
    "    pass"
   ]
  },
  {
   "cell_type": "code",
   "execution_count": null,
   "metadata": {},
   "outputs": [],
   "source": []
  }
 ],
 "metadata": {
  "kernelspec": {
   "display_name": "Python 3",
   "language": "python",
   "name": "python3"
  },
  "language_info": {
   "codemirror_mode": {
    "name": "ipython",
    "version": 3
   },
   "file_extension": ".py",
   "mimetype": "text/x-python",
   "name": "python",
   "nbconvert_exporter": "python",
   "pygments_lexer": "ipython3",
   "version": "3.6.5"
  }
 },
 "nbformat": 4,
 "nbformat_minor": 2
}
