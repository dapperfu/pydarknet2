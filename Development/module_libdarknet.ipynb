{
 "cells": [
  {
   "cell_type": "code",
   "execution_count": 1,
   "metadata": {},
   "outputs": [],
   "source": [
    "%load_ext autoreload\n",
    "%autoreload 2"
   ]
  },
  {
   "cell_type": "code",
   "execution_count": 2,
   "metadata": {},
   "outputs": [],
   "source": [
    "import os"
   ]
  },
  {
   "cell_type": "code",
   "execution_count": null,
   "metadata": {},
   "outputs": [],
   "source": [
    "from pydarknet.libdarknet import Libdarknet"
   ]
  },
  {
   "cell_type": "code",
   "execution_count": 10,
   "metadata": {},
   "outputs": [
    {
     "data": {
      "text/plain": [
       "Darknet<dir='True', bin='True'>"
      ]
     },
     "execution_count": 10,
     "metadata": {},
     "output_type": "execute_result"
    }
   ],
   "source": [
    "l = pydarknet.l\n",
    "dn"
   ]
  },
  {
   "cell_type": "code",
   "execution_count": 11,
   "metadata": {},
   "outputs": [
    {
     "data": {
      "text/plain": [
       "'/mnt/ubuntu1604_2/home/jed/.darknet'"
      ]
     },
     "execution_count": 11,
     "metadata": {},
     "output_type": "execute_result"
    }
   ],
   "source": [
    "dn.root"
   ]
  },
  {
   "cell_type": "code",
   "execution_count": 12,
   "metadata": {},
   "outputs": [
    {
     "data": {
      "text/plain": [
       "True"
      ]
     },
     "execution_count": 12,
     "metadata": {},
     "output_type": "execute_result"
    }
   ],
   "source": [
    "os.path.exists(dn.root)"
   ]
  },
  {
   "cell_type": "code",
   "execution_count": 13,
   "metadata": {},
   "outputs": [
    {
     "data": {
      "text/plain": [
       "True"
      ]
     },
     "execution_count": 13,
     "metadata": {},
     "output_type": "execute_result"
    }
   ],
   "source": [
    "os.path.exists(dn.root)"
   ]
  },
  {
   "cell_type": "code",
   "execution_count": 14,
   "metadata": {},
   "outputs": [
    {
     "data": {
      "text/plain": [
       "True"
      ]
     },
     "execution_count": 14,
     "metadata": {},
     "output_type": "execute_result"
    }
   ],
   "source": [
    "dn.exists"
   ]
  },
  {
   "cell_type": "code",
   "execution_count": 15,
   "metadata": {},
   "outputs": [
    {
     "ename": "CloneException",
     "evalue": "/mnt/ubuntu1604_2/home/jed/.darknet already exists. Not forcing clone.",
     "output_type": "error",
     "traceback": [
      "\u001b[0;31m---------------------------------------------------------------------------\u001b[0m",
      "\u001b[0;31mCloneException\u001b[0m                            Traceback (most recent call last)",
      "\u001b[0;32m<ipython-input-15-b0919ceeedc7>\u001b[0m in \u001b[0;36m<module>\u001b[0;34m()\u001b[0m\n\u001b[0;32m----> 1\u001b[0;31m \u001b[0mdn\u001b[0m\u001b[0;34m.\u001b[0m\u001b[0mclone\u001b[0m\u001b[0;34m(\u001b[0m\u001b[0;34m)\u001b[0m\u001b[0;34m\u001b[0m\u001b[0m\n\u001b[0m",
      "\u001b[0;32m/projects/pydarknet/pydarknet/darknet/__init__.py\u001b[0m in \u001b[0;36mclone\u001b[0;34m(self, clone_url, force)\u001b[0m\n\u001b[1;32m    164\u001b[0m             raise CloneException(\n\u001b[1;32m    165\u001b[0m                 \u001b[0;34m\"{} already exists. Not forcing clone.\"\u001b[0m\u001b[0;34m.\u001b[0m\u001b[0mformat\u001b[0m\u001b[0;34m(\u001b[0m\u001b[0mself\u001b[0m\u001b[0;34m.\u001b[0m\u001b[0mroot\u001b[0m\u001b[0;34m)\u001b[0m\u001b[0;34m\u001b[0m\u001b[0m\n\u001b[0;32m--> 166\u001b[0;31m             )\n\u001b[0m\u001b[1;32m    167\u001b[0m \u001b[0;34m\u001b[0m\u001b[0m\n\u001b[1;32m    168\u001b[0m         \u001b[0;32mif\u001b[0m \u001b[0mos\u001b[0m\u001b[0;34m.\u001b[0m\u001b[0mpath\u001b[0m\u001b[0;34m.\u001b[0m\u001b[0misdir\u001b[0m\u001b[0;34m(\u001b[0m\u001b[0mself\u001b[0m\u001b[0;34m.\u001b[0m\u001b[0mroot\u001b[0m\u001b[0;34m)\u001b[0m \u001b[0;32mand\u001b[0m \u001b[0mforce\u001b[0m\u001b[0;34m:\u001b[0m\u001b[0;34m\u001b[0m\u001b[0m\n",
      "\u001b[0;31mCloneException\u001b[0m: /mnt/ubuntu1604_2/home/jed/.darknet already exists. Not forcing clone."
     ]
    }
   ],
   "source": [
    "dn.clone()"
   ]
  },
  {
   "cell_type": "code",
   "execution_count": 16,
   "metadata": {},
   "outputs": [
    {
     "data": {
      "text/plain": [
       "True"
      ]
     },
     "execution_count": 16,
     "metadata": {},
     "output_type": "execute_result"
    }
   ],
   "source": [
    "dn.exists"
   ]
  },
  {
   "cell_type": "code",
   "execution_count": 17,
   "metadata": {},
   "outputs": [
    {
     "ename": "BuildException",
     "evalue": "Executable exists and force flag not set",
     "output_type": "error",
     "traceback": [
      "\u001b[0;31m---------------------------------------------------------------------------\u001b[0m",
      "\u001b[0;31mBuildException\u001b[0m                            Traceback (most recent call last)",
      "\u001b[0;32m<ipython-input-17-39f219fab6cf>\u001b[0m in \u001b[0;36m<module>\u001b[0;34m()\u001b[0m\n\u001b[0;32m----> 1\u001b[0;31m \u001b[0mdn\u001b[0m\u001b[0;34m.\u001b[0m\u001b[0mbuild\u001b[0m\u001b[0;34m(\u001b[0m\u001b[0mopencv\u001b[0m\u001b[0;34m=\u001b[0m\u001b[0;32mTrue\u001b[0m\u001b[0;34m)\u001b[0m\u001b[0;34m\u001b[0m\u001b[0m\n\u001b[0m",
      "\u001b[0;32m/projects/pydarknet/pydarknet/darknet/__init__.py\u001b[0m in \u001b[0;36mwrapper\u001b[0;34m(self, *args, **kwargs)\u001b[0m\n\u001b[1;32m     35\u001b[0m         \u001b[0;31m# Execute the function that got wrapped.\u001b[0m\u001b[0;34m\u001b[0m\u001b[0;34m\u001b[0m\u001b[0m\n\u001b[1;32m     36\u001b[0m         \u001b[0mret\u001b[0m \u001b[0;34m=\u001b[0m \u001b[0mf\u001b[0m\u001b[0;34m(\u001b[0m\u001b[0mself\u001b[0m\u001b[0;34m,\u001b[0m \u001b[0;34m*\u001b[0m\u001b[0margs\u001b[0m\u001b[0;34m,\u001b[0m \u001b[0;34m**\u001b[0m\u001b[0mkwargs\u001b[0m\u001b[0;34m)\u001b[0m\u001b[0;34m\u001b[0m\u001b[0m\n\u001b[0;32m---> 37\u001b[0;31m         \u001b[0;31m# Change back to the 'last' working directory.\u001b[0m\u001b[0;34m\u001b[0m\u001b[0;34m\u001b[0m\u001b[0m\n\u001b[0m\u001b[1;32m     38\u001b[0m         \u001b[0mos\u001b[0m\u001b[0;34m.\u001b[0m\u001b[0mchdir\u001b[0m\u001b[0;34m(\u001b[0m\u001b[0mlwd\u001b[0m\u001b[0;34m)\u001b[0m\u001b[0;34m\u001b[0m\u001b[0m\n\u001b[1;32m     39\u001b[0m         \u001b[0;31m# Return the function's output.\u001b[0m\u001b[0;34m\u001b[0m\u001b[0;34m\u001b[0m\u001b[0m\n",
      "\u001b[0;32m/projects/pydarknet/pydarknet/darknet/__init__.py\u001b[0m in \u001b[0;36mbuild\u001b[0;34m(self, force, **kwargs)\u001b[0m\n\u001b[1;32m    123\u001b[0m         \u001b[0;32mif\u001b[0m \u001b[0mos\u001b[0m\u001b[0;34m.\u001b[0m\u001b[0mpath\u001b[0m\u001b[0;34m.\u001b[0m\u001b[0mexists\u001b[0m\u001b[0;34m(\u001b[0m\u001b[0mself\u001b[0m\u001b[0;34m.\u001b[0m\u001b[0mexe\u001b[0m\u001b[0;34m)\u001b[0m \u001b[0;32mand\u001b[0m \u001b[0;32mnot\u001b[0m \u001b[0mforce\u001b[0m\u001b[0;34m:\u001b[0m\u001b[0;34m\u001b[0m\u001b[0m\n\u001b[1;32m    124\u001b[0m             \u001b[0;32mraise\u001b[0m \u001b[0mBuildException\u001b[0m\u001b[0;34m(\u001b[0m\u001b[0;34m\"Executable exists and force flag not set\"\u001b[0m\u001b[0;34m)\u001b[0m\u001b[0;34m\u001b[0m\u001b[0m\n\u001b[0;32m--> 125\u001b[0;31m         \u001b[0mout\u001b[0m \u001b[0;34m=\u001b[0m \u001b[0msubprocess\u001b[0m\u001b[0;34m.\u001b[0m\u001b[0mcheck_output\u001b[0m\u001b[0;34m(\u001b[0m\u001b[0;34m[\u001b[0m\u001b[0;34m\"make\"\u001b[0m\u001b[0;34m,\u001b[0m \u001b[0;34m\"clean\"\u001b[0m\u001b[0;34m]\u001b[0m\u001b[0;34m)\u001b[0m\u001b[0;34m\u001b[0m\u001b[0m\n\u001b[0m\u001b[1;32m    126\u001b[0m \u001b[0;34m\u001b[0m\u001b[0m\n\u001b[1;32m    127\u001b[0m         \u001b[0;32mfor\u001b[0m \u001b[0marg\u001b[0m\u001b[0;34m,\u001b[0m \u001b[0mvalue\u001b[0m \u001b[0;32min\u001b[0m \u001b[0mkwargs\u001b[0m\u001b[0;34m.\u001b[0m\u001b[0mitems\u001b[0m\u001b[0;34m(\u001b[0m\u001b[0;34m)\u001b[0m\u001b[0;34m:\u001b[0m\u001b[0;34m\u001b[0m\u001b[0m\n",
      "\u001b[0;31mBuildException\u001b[0m: Executable exists and force flag not set"
     ]
    }
   ],
   "source": [
    "dn.build(opencv=True)"
   ]
  },
  {
   "cell_type": "code",
   "execution_count": 18,
   "metadata": {},
   "outputs": [
    {
     "data": {
      "text/plain": [
       "['/mnt/ubuntu1604_2/home/jed/.darknet/weights/yolov3.weights']"
      ]
     },
     "execution_count": 18,
     "metadata": {},
     "output_type": "execute_result"
    }
   ],
   "source": [
    "dn.weights"
   ]
  },
  {
   "cell_type": "code",
   "execution_count": 19,
   "metadata": {},
   "outputs": [
    {
     "data": {
      "text/plain": [
       "['/mnt/ubuntu1604_2/home/jed/.darknet/cfg/coco.data',\n",
       " '/mnt/ubuntu1604_2/home/jed/.darknet/cfg/combine9k.data',\n",
       " '/mnt/ubuntu1604_2/home/jed/.darknet/cfg/imagenet1k.data',\n",
       " '/mnt/ubuntu1604_2/home/jed/.darknet/cfg/voc.data']"
      ]
     },
     "execution_count": 19,
     "metadata": {},
     "output_type": "execute_result"
    }
   ],
   "source": [
    "dn.datas"
   ]
  },
  {
   "cell_type": "code",
   "execution_count": 20,
   "metadata": {},
   "outputs": [
    {
     "data": {
      "text/plain": [
       "['/mnt/ubuntu1604_2/home/jed/.darknet/cfg/imagenet9k.hierarchy.dataset',\n",
       " '/mnt/ubuntu1604_2/home/jed/.darknet/cfg/imagenet22k.dataset']"
      ]
     },
     "execution_count": 20,
     "metadata": {},
     "output_type": "execute_result"
    }
   ],
   "source": [
    "dn.datasets"
   ]
  },
  {
   "cell_type": "code",
   "execution_count": 21,
   "metadata": {},
   "outputs": [
    {
     "data": {
      "text/plain": [
       "['/mnt/ubuntu1604_2/home/jed/.darknet/cfg/jnet-conv.cfg',\n",
       " '/mnt/ubuntu1604_2/home/jed/.darknet/cfg/yolov3-voc.cfg',\n",
       " '/mnt/ubuntu1604_2/home/jed/.darknet/cfg/resnet34.cfg',\n",
       " '/mnt/ubuntu1604_2/home/jed/.darknet/cfg/yolov1-tiny.cfg',\n",
       " '/mnt/ubuntu1604_2/home/jed/.darknet/cfg/alexnet.cfg',\n",
       " '/mnt/ubuntu1604_2/home/jed/.darknet/cfg/yolov2-tiny-voc.cfg',\n",
       " '/mnt/ubuntu1604_2/home/jed/.darknet/cfg/yolov3-tiny.cfg',\n",
       " '/mnt/ubuntu1604_2/home/jed/.darknet/cfg/go.test.cfg',\n",
       " '/mnt/ubuntu1604_2/home/jed/.darknet/cfg/resnet50.cfg',\n",
       " '/mnt/ubuntu1604_2/home/jed/.darknet/cfg/vgg-conv.cfg',\n",
       " '/mnt/ubuntu1604_2/home/jed/.darknet/cfg/darknet53.cfg',\n",
       " '/mnt/ubuntu1604_2/home/jed/.darknet/cfg/darknet19.cfg',\n",
       " '/mnt/ubuntu1604_2/home/jed/.darknet/cfg/yolov3-spp.cfg',\n",
       " '/mnt/ubuntu1604_2/home/jed/.darknet/cfg/t1.test.cfg',\n",
       " '/mnt/ubuntu1604_2/home/jed/.darknet/cfg/yolov2-tiny.cfg',\n",
       " '/mnt/ubuntu1604_2/home/jed/.darknet/cfg/resnet101.cfg',\n",
       " '/mnt/ubuntu1604_2/home/jed/.darknet/cfg/yolov2-voc.cfg',\n",
       " '/mnt/ubuntu1604_2/home/jed/.darknet/cfg/resnext50.cfg',\n",
       " '/mnt/ubuntu1604_2/home/jed/.darknet/cfg/yolov1.cfg',\n",
       " '/mnt/ubuntu1604_2/home/jed/.darknet/cfg/darknet9000.cfg',\n",
       " '/mnt/ubuntu1604_2/home/jed/.darknet/cfg/rnn.cfg',\n",
       " '/mnt/ubuntu1604_2/home/jed/.darknet/cfg/extraction.cfg',\n",
       " '/mnt/ubuntu1604_2/home/jed/.darknet/cfg/resnet18.cfg',\n",
       " '/mnt/ubuntu1604_2/home/jed/.darknet/cfg/yolov2.cfg',\n",
       " '/mnt/ubuntu1604_2/home/jed/.darknet/cfg/darknet53_448.cfg',\n",
       " '/mnt/ubuntu1604_2/home/jed/.darknet/cfg/yolov3.cfg',\n",
       " '/mnt/ubuntu1604_2/home/jed/.darknet/cfg/writing.cfg',\n",
       " '/mnt/ubuntu1604_2/home/jed/.darknet/cfg/resnet152.cfg',\n",
       " '/mnt/ubuntu1604_2/home/jed/.darknet/cfg/extraction.conv.cfg',\n",
       " '/mnt/ubuntu1604_2/home/jed/.darknet/cfg/gru.cfg',\n",
       " '/mnt/ubuntu1604_2/home/jed/.darknet/cfg/vgg-16.cfg',\n",
       " '/mnt/ubuntu1604_2/home/jed/.darknet/cfg/rnn.train.cfg',\n",
       " '/mnt/ubuntu1604_2/home/jed/.darknet/cfg/darknet.cfg',\n",
       " '/mnt/ubuntu1604_2/home/jed/.darknet/cfg/strided.cfg',\n",
       " '/mnt/ubuntu1604_2/home/jed/.darknet/cfg/extraction22k.cfg',\n",
       " '/mnt/ubuntu1604_2/home/jed/.darknet/cfg/cifar.cfg',\n",
       " '/mnt/ubuntu1604_2/home/jed/.darknet/cfg/cifar.test.cfg',\n",
       " '/mnt/ubuntu1604_2/home/jed/.darknet/cfg/resnext101-32x4d.cfg',\n",
       " '/mnt/ubuntu1604_2/home/jed/.darknet/cfg/go.cfg',\n",
       " '/mnt/ubuntu1604_2/home/jed/.darknet/cfg/tiny.cfg',\n",
       " '/mnt/ubuntu1604_2/home/jed/.darknet/cfg/resnext152-32x4d.cfg',\n",
       " '/mnt/ubuntu1604_2/home/jed/.darknet/cfg/yolo9000.cfg',\n",
       " '/mnt/ubuntu1604_2/home/jed/.darknet/cfg/darknet19_448.cfg',\n",
       " '/mnt/ubuntu1604_2/home/jed/.darknet/cfg/densenet201.cfg']"
      ]
     },
     "execution_count": 21,
     "metadata": {},
     "output_type": "execute_result"
    }
   ],
   "source": [
    "dn.cfgs"
   ]
  },
  {
   "cell_type": "code",
   "execution_count": null,
   "metadata": {},
   "outputs": [],
   "source": []
  },
  {
   "cell_type": "code",
   "execution_count": 22,
   "metadata": {},
   "outputs": [
    {
     "data": {
      "text/plain": [
       "'/mnt/ubuntu1604_2/home/jed/.darknet/weights/yolov3.weights'"
      ]
     },
     "execution_count": 22,
     "metadata": {},
     "output_type": "execute_result"
    }
   ],
   "source": [
    "yolov3=dn.weights[0]\n",
    "yolov3"
   ]
  },
  {
   "cell_type": "code",
   "execution_count": 23,
   "metadata": {},
   "outputs": [
    {
     "data": {
      "text/plain": [
       "'yolov3'"
      ]
     },
     "execution_count": 23,
     "metadata": {},
     "output_type": "execute_result"
    }
   ],
   "source": [
    "os.path.splitext(os.path.basename(yolov3))[0]"
   ]
  },
  {
   "cell_type": "code",
   "execution_count": 24,
   "metadata": {},
   "outputs": [],
   "source": [
    "self=yolov3"
   ]
  },
  {
   "cell_type": "code",
   "execution_count": 25,
   "metadata": {},
   "outputs": [
    {
     "ename": "NameError",
     "evalue": "name 'Incantation' is not defined",
     "output_type": "error",
     "traceback": [
      "\u001b[0;31m---------------------------------------------------------------------------\u001b[0m",
      "\u001b[0;31mNameError\u001b[0m                                 Traceback (most recent call last)",
      "\u001b[0;32m<ipython-input-25-7cdff114ac80>\u001b[0m in \u001b[0;36m<module>\u001b[0;34m()\u001b[0m\n\u001b[0;32m----> 1\u001b[0;31m \u001b[0mi\u001b[0m\u001b[0;34m=\u001b[0m\u001b[0mIncantation\u001b[0m\u001b[0;34m(\u001b[0m\u001b[0mweights\u001b[0m\u001b[0;34m=\u001b[0m\u001b[0mdn\u001b[0m\u001b[0;34m.\u001b[0m\u001b[0mweights\u001b[0m\u001b[0;34m[\u001b[0m\u001b[0;36m0\u001b[0m\u001b[0;34m]\u001b[0m\u001b[0;34m,\u001b[0m \u001b[0mdarknet\u001b[0m\u001b[0;34m=\u001b[0m\u001b[0mdn\u001b[0m\u001b[0;34m)\u001b[0m\u001b[0;34m\u001b[0m\u001b[0m\n\u001b[0m",
      "\u001b[0;31mNameError\u001b[0m: name 'Incantation' is not defined"
     ]
    }
   ],
   "source": [
    "i=Incantation(weights=dn.weights[0], darknet=dn)"
   ]
  },
  {
   "cell_type": "code",
   "execution_count": 26,
   "metadata": {},
   "outputs": [
    {
     "ename": "NameError",
     "evalue": "name 'i' is not defined",
     "output_type": "error",
     "traceback": [
      "\u001b[0;31m---------------------------------------------------------------------------\u001b[0m",
      "\u001b[0;31mNameError\u001b[0m                                 Traceback (most recent call last)",
      "\u001b[0;32m<ipython-input-26-397d543883c5>\u001b[0m in \u001b[0;36m<module>\u001b[0;34m()\u001b[0m\n\u001b[0;32m----> 1\u001b[0;31m \u001b[0mi\u001b[0m\u001b[0;34m\u001b[0m\u001b[0m\n\u001b[0m",
      "\u001b[0;31mNameError\u001b[0m: name 'i' is not defined"
     ]
    }
   ],
   "source": [
    "i"
   ]
  },
  {
   "cell_type": "code",
   "execution_count": 27,
   "metadata": {
    "scrolled": true
   },
   "outputs": [
    {
     "ename": "NameError",
     "evalue": "name 'i' is not defined",
     "output_type": "error",
     "traceback": [
      "\u001b[0;31m---------------------------------------------------------------------------\u001b[0m",
      "\u001b[0;31mNameError\u001b[0m                                 Traceback (most recent call last)",
      "\u001b[0;32m<ipython-input-27-c67bc94c21bd>\u001b[0m in \u001b[0;36m<module>\u001b[0;34m()\u001b[0m\n\u001b[0;32m----> 1\u001b[0;31m \u001b[0mdn\u001b[0m\u001b[0;34m.\u001b[0m\u001b[0mrun\u001b[0m\u001b[0;34m(\u001b[0m\u001b[0;34m\"detect\"\u001b[0m\u001b[0;34m,\u001b[0m \u001b[0mi\u001b[0m\u001b[0;34m.\u001b[0m\u001b[0mcfg\u001b[0m\u001b[0;34m,\u001b[0m \u001b[0mi\u001b[0m\u001b[0;34m.\u001b[0m\u001b[0mweights\u001b[0m\u001b[0;34m,\u001b[0m \u001b[0;34m\"/mnt/ubuntu1604_2/home/jed/.darknet/data/dog.jpg\"\u001b[0m\u001b[0;34m)\u001b[0m\u001b[0;34m\u001b[0m\u001b[0m\n\u001b[0m",
      "\u001b[0;31mNameError\u001b[0m: name 'i' is not defined"
     ]
    }
   ],
   "source": [
    "dn.run(\"detect\", i.cfg, i.weights, \"/mnt/ubuntu1604_2/home/jed/.darknet/data/dog.jpg\")"
   ]
  },
  {
   "cell_type": "code",
   "execution_count": 28,
   "metadata": {},
   "outputs": [
    {
     "data": {
      "text/plain": [
       "'/mnt/ubuntu1604_2/home/jed/.darknet/darknet'"
      ]
     },
     "execution_count": 28,
     "metadata": {},
     "output_type": "execute_result"
    }
   ],
   "source": [
    "dn.exe"
   ]
  },
  {
   "cell_type": "code",
   "execution_count": null,
   "metadata": {},
   "outputs": [],
   "source": [
    "\" \".join(['/mnt/ubuntu1604_2/home/jed/.darknet/darknet', 'detect', '/mnt/ubuntu1604_2/home/jed/.darknet/cfg/yolov3.cfg', '/mnt/ubuntu1604_2/home/jed/.darknet/weights/yolov3.weights', '/mnt/ubuntu1604_2/home/jed/.darknet/data/dog.jpg'])"
   ]
  },
  {
   "cell_type": "code",
   "execution_count": null,
   "metadata": {},
   "outputs": [],
   "source": [
    "i.cast(\"/mnt/ubuntu1604_2/home/jed/.darknet/data/dog.jpg\")"
   ]
  },
  {
   "cell_type": "code",
   "execution_count": null,
   "metadata": {},
   "outputs": [],
   "source": [
    "i.ca"
   ]
  }
 ],
 "metadata": {
  "kernelspec": {
   "display_name": "Python 3",
   "language": "python",
   "name": "python3"
  },
  "language_info": {
   "codemirror_mode": {
    "name": "ipython",
    "version": 3
   },
   "file_extension": ".py",
   "mimetype": "text/x-python",
   "name": "python",
   "nbconvert_exporter": "python",
   "pygments_lexer": "ipython3",
   "version": "3.6.5"
  }
 },
 "nbformat": 4,
 "nbformat_minor": 2
}
